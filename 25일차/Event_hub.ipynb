{
 "cells": [
  {
   "cell_type": "code",
   "execution_count": 1,
   "metadata": {},
   "outputs": [],
   "source": [
    "from azure.eventhub.aio import EventHubProducerClient\n",
    "from azure.eventhub import EventData"
   ]
  },
  {
   "cell_type": "code",
   "execution_count": 2,
   "metadata": {},
   "outputs": [],
   "source": [
    "import env2\n",
    "\n",
    "conn_str = env2.conn_str\n",
    "eventhub = EventHubProducerClient.from_connection_string(conn_str=conn_str)"
   ]
  },
  {
   "cell_type": "code",
   "execution_count": 3,
   "metadata": {},
   "outputs": [
    {
     "name": "stderr",
     "output_type": "stream",
     "text": [
      "C:\\Users\\user\\AppData\\Local\\Temp\\ipykernel_9072\\3264872954.py:8: RuntimeWarning: coroutine 'EventHubProducerClient.send_event' was never awaited\n",
      "  eventhub.send_event(EventData(message))\n",
      "RuntimeWarning: Enable tracemalloc to get the object allocation traceback\n"
     ]
    },
    {
     "name": "stdout",
     "output_type": "stream",
     "text": [
      "message 10 sending...\n",
      "message 20 sending...\n",
      "message 30 sending...\n",
      "message 40 sending...\n",
      "message 50 sending...\n",
      "message 60 sending...\n",
      "message 70 sending...\n",
      "message 80 sending...\n",
      "message 90 sending...\n",
      "message 100 sending...\n",
      "message 110 sending...\n",
      "message 120 sending...\n",
      "message 130 sending...\n",
      "message 140 sending...\n",
      "message 150 sending...\n",
      "message 160 sending...\n",
      "message 170 sending...\n",
      "message 180 sending...\n",
      "message 190 sending...\n",
      "message 200 sending...\n",
      "message 210 sending...\n",
      "message 220 sending...\n",
      "message 230 sending...\n",
      "message 240 sending...\n",
      "message 250 sending...\n",
      "message 260 sending...\n",
      "message 270 sending...\n",
      "message 280 sending...\n",
      "message 290 sending...\n",
      "message 300 sending...\n",
      "message 310 sending...\n",
      "message 320 sending...\n",
      "message 330 sending...\n",
      "message 340 sending...\n",
      "message 350 sending...\n",
      "message 360 sending...\n",
      "message 370 sending...\n",
      "message 380 sending...\n",
      "message 390 sending...\n",
      "message 400 sending...\n",
      "message 410 sending...\n",
      "message 420 sending...\n",
      "message 430 sending...\n",
      "message 440 sending...\n",
      "message 450 sending...\n",
      "message 460 sending...\n",
      "message 470 sending...\n",
      "message 480 sending...\n",
      "message 490 sending...\n",
      "message 500 sending...\n",
      "message 510 sending...\n",
      "message 520 sending...\n",
      "message 530 sending...\n",
      "message 540 sending...\n",
      "message 550 sending...\n",
      "message 560 sending...\n",
      "message 570 sending...\n",
      "message 580 sending...\n",
      "message 590 sending...\n",
      "message 600 sending...\n",
      "message 610 sending...\n",
      "message 620 sending...\n",
      "message 630 sending...\n",
      "message 640 sending...\n",
      "message 650 sending...\n",
      "message 660 sending...\n",
      "message 670 sending...\n",
      "message 680 sending...\n",
      "message 690 sending...\n",
      "message 700 sending...\n",
      "message 710 sending...\n",
      "message 720 sending...\n",
      "message 730 sending...\n",
      "message 740 sending...\n",
      "message 750 sending...\n",
      "message 760 sending...\n",
      "message 770 sending...\n",
      "message 780 sending...\n",
      "message 790 sending...\n",
      "message 800 sending...\n",
      "message 810 sending...\n",
      "message 820 sending...\n",
      "message 830 sending...\n",
      "message 840 sending...\n",
      "message 850 sending...\n",
      "message 860 sending...\n",
      "message 870 sending...\n",
      "message 880 sending...\n",
      "message 890 sending...\n",
      "message 900 sending...\n",
      "message 910 sending...\n",
      "message 920 sending...\n"
     ]
    },
    {
     "ename": "KeyboardInterrupt",
     "evalue": "",
     "output_type": "error",
     "traceback": [
      "\u001b[1;31m---------------------------------------------------------------------------\u001b[0m",
      "\u001b[1;31mKeyboardInterrupt\u001b[0m                         Traceback (most recent call last)",
      "Cell \u001b[1;32mIn [3], line 14\u001b[0m\n\u001b[0;32m     11\u001b[0m \u001b[39mif\u001b[39;00m (i\u001b[39m%\u001b[39m\u001b[39m10\u001b[39m \u001b[39m==\u001b[39m \u001b[39m0\u001b[39m):\n\u001b[0;32m     12\u001b[0m     \u001b[39mprint\u001b[39m(\u001b[39m'\u001b[39m\u001b[39mmessage \u001b[39m\u001b[39m{}\u001b[39;00m\u001b[39m sending...\u001b[39m\u001b[39m'\u001b[39m\u001b[39m.\u001b[39mformat(i))\n\u001b[1;32m---> 14\u001b[0m time\u001b[39m.\u001b[39;49msleep(\u001b[39m2\u001b[39;49m)\n",
      "\u001b[1;31mKeyboardInterrupt\u001b[0m: "
     ]
    }
   ],
   "source": [
    "import time\n",
    "from datetime import datetime\n",
    "\n",
    "i = 0\n",
    "while(1):\n",
    "    message = 'time: ' + str(datetime.now())\n",
    "    # 한 건의 메시지는 .send_event(), 여러 건의 메시지는 send_batch()\n",
    "    eventhub.send_event(EventData(message))\n",
    "\n",
    "    i+=1\n",
    "    if (i%10 == 0):\n",
    "        print('message {} sending...'.format(i))\n",
    "\n",
    "    time.sleep(2)"
   ]
  },
  {
   "cell_type": "code",
   "execution_count": null,
   "metadata": {},
   "outputs": [],
   "source": []
  }
 ],
 "metadata": {
  "kernelspec": {
   "display_name": "Python 3.10.8 64-bit",
   "language": "python",
   "name": "python3"
  },
  "language_info": {
   "codemirror_mode": {
    "name": "ipython",
    "version": 3
   },
   "file_extension": ".py",
   "mimetype": "text/x-python",
   "name": "python",
   "nbconvert_exporter": "python",
   "pygments_lexer": "ipython3",
   "version": "3.10.8"
  },
  "orig_nbformat": 4,
  "vscode": {
   "interpreter": {
    "hash": "fb4569285eef3a3450cb62085a5b1e0da4bce0af555edc33dcf29baf3acc1368"
   }
  }
 },
 "nbformat": 4,
 "nbformat_minor": 2
}
