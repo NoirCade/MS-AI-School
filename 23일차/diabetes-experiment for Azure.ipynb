{
 "cells": [
  {
   "cell_type": "code",
   "execution_count": 1,
   "metadata": {},
   "outputs": [],
   "source": [
    "# 실험공간의 생성 - 애저에서 작업시에 이용\n",
    "from azureml.core import Experiment\n",
    "experiment = Experiment(workspace=ws, name='diabetes-experiment')"
   ]
  },
  {
   "cell_type": "code",
   "execution_count": 2,
   "metadata": {},
   "outputs": [
    {
     "ename": "ModuleNotFoundError",
     "evalue": "No module named 'azureml'",
     "output_type": "error",
     "traceback": [
      "\u001b[1;31m---------------------------------------------------------------------------\u001b[0m",
      "\u001b[1;31mModuleNotFoundError\u001b[0m                       Traceback (most recent call last)",
      "Cell \u001b[1;32mIn [2], line 1\u001b[0m\n\u001b[1;32m----> 1\u001b[0m \u001b[39mfrom\u001b[39;00m \u001b[39mazureml\u001b[39;00m\u001b[39m.\u001b[39;00m\u001b[39mopendatasets\u001b[39;00m \u001b[39mimport\u001b[39;00m Diabetes\n\u001b[0;32m      2\u001b[0m \u001b[39mfrom\u001b[39;00m \u001b[39msklearn\u001b[39;00m\u001b[39m.\u001b[39;00m\u001b[39mmodel_selection\u001b[39;00m \u001b[39mimport\u001b[39;00m train_test_split\n\u001b[0;32m      4\u001b[0m Diabetes\u001b[39m.\u001b[39mget_tabular_dataset()\u001b[39m.\u001b[39mto_pandas_dataframe\n",
      "\u001b[1;31mModuleNotFoundError\u001b[0m: No module named 'azureml'"
     ]
    }
   ],
   "source": [
    "# 애저의 당뇨병 데이터셋을 호출\n",
    "from azureml.opendatasets import Diabetes\n",
    "from sklearn.model_selection import train_test_split\n",
    "\n",
    "# 애저에는 데이터를 바로 데이터프레임으로 가져올 수 있도록 편의성 기능이 들어있음\n",
    "x_df = Diabetes.get_tabular_dataset().to_pandas_dataframe\n",
    "y_df = x_df.pop('Y')\n",
    "# df에서 pop() 메소드는 해당 컬럼을 기존 데이터에서 들어내서 입력해준다\n",
    "\n",
    "X_train, X_test, y_train, y_test = train_test_split(x_df, y_df, test_size=0.2, random_state=66)\n",
    "print(X_train)"
   ]
  },
  {
   "cell_type": "code",
   "execution_count": 3,
   "metadata": {},
   "outputs": [
    {
     "ename": "SyntaxError",
     "evalue": "'(' was never closed (897958573.py, line 22)",
     "output_type": "error",
     "traceback": [
      "\u001b[1;36m  Cell \u001b[1;32mIn [3], line 22\u001b[1;36m\u001b[0m\n\u001b[1;33m    joblib.dump(value=model, filename=filename\u001b[0m\n\u001b[1;37m               ^\u001b[0m\n\u001b[1;31mSyntaxError\u001b[0m\u001b[1;31m:\u001b[0m '(' was never closed\n"
     ]
    }
   ],
   "source": [
    "from sklearn.linear_model import Ridge\n",
    "from sklearn.metrics import mean_squared_error\n",
    "from sklearn.externals import joblib\n",
    "import math\n",
    "\n",
    "alphas = [0.1, 0.2, 0.3, 0.4, 0.5, 0.6, 0.7, 0.8, 0.9, 1]\n",
    "for alpha in alphas:\n",
    "   run = experiment.start_logging()\n",
    "#    실험마다 로그(기록)를 남기게 함\n",
    "   run.log('alpha_value', alpha)\n",
    "\n",
    "   model = Ridge(alpha=alpha)\n",
    "   model.fit(X_train, y_train)\n",
    "\n",
    "   y_pred = model.predict(X_test)\n",
    "   rmse = math.sqrt(mean_squared_error(y_test, y_pred))\n",
    "   run.log('rmse', rmse)\n",
    "\n",
    "   model_name = 'model_alpha_' + str(alpha)\n",
    "   filename = 'outputs/' + model_name\n",
    "\n",
    "   joblib.dump(value=model, filename=filename)\n",
    "   run.upload_file(name=model_name, path_or_stream=filename)\n",
    "   # /outputs 폴더 아래 모델명으로 각각 저장되고, 클라우드에도 업로드\n",
    "\n",
    "   print(f'{alpha} experiment completed')"
   ]
  },
  {
   "cell_type": "code",
   "execution_count": null,
   "metadata": {},
   "outputs": [],
   "source": [
    "# Best model 탐색 후 다운로드\n",
    "\n",
    "minimun_rmse_runid = None\n",
    "minimum_rmse = None\n",
    "\n",
    "for  run in experiment.get_runs():\n",
    "    run_metrics = run.get_metrics()\n",
    "    run_details = run.get_details()\n",
    "\n",
    "    run_rmse = run_metrics['rmse']\n",
    "    run_id = run_details['runId']\n",
    "    \n",
    "    if minimum_rmse is None:\n",
    "        minimum_rmse = run_rmse\n",
    "        minimun_rmse_runid = run_id\n",
    "    else:\n",
    "        if minimum_rmse > run_rmse:\n",
    "            minimum_rmse = run_rmse\n",
    "            minimun_rmse_runid = run_id\n",
    "\n",
    "print('Best run_id: '+ minimun_rmse_runid)\n",
    "print('Best rmse: '+ str(minimum_rmse))"
   ]
  },
  {
   "cell_type": "code",
   "execution_count": null,
   "metadata": {},
   "outputs": [],
   "source": [
    "from azureml.core import Run\n",
    "\n",
    "best_run = Run(experiment=experiment, run_id=minimun_rmse_runid)\n",
    "best_run.download_file(name=str(best_run.get_file_names()[0]))"
   ]
  },
  {
   "cell_type": "code",
   "execution_count": null,
   "metadata": {},
   "outputs": [],
   "source": [
    "import numpy as np\n",
    "from azureml.core import Dataset\n",
    "\n",
    "np.savetxt('features.csv', X_train, delimiter=',')\n",
    "np.savetxt('labels.csv', y_train, delimiter=',')\n",
    "\n",
    "\n",
    "\n",
    "datastore = ws.get_default_datastore()\n",
    "datastore.upload_files(files=['./features.csv', './labels.csv'],\n",
    "                       target_path='diabetes-experiment/',\n",
    "                       overwrite=True)\n",
    "\n",
    "\n",
    "input_dataset = Dataset.Tabular.from_delimited_files(path=[(datastore, 'diabetes-experiment/features.csv')])\n",
    "output_dataset = Dataset.Tabular.from_delimited_files(path=[(datastore, 'diabetes-experiment/labels.csv')])"
   ]
  },
  {
   "cell_type": "code",
   "execution_count": null,
   "metadata": {},
   "outputs": [],
   "source": [
    "import sklearn\n",
    "\n",
    "from azureml.core import Model\n",
    "from azureml.core.resource_configuration import ResourceConfiguration\n",
    "\n",
    "\n",
    "\n",
    "\n",
    "model = Model.register(workspace=ws,\n",
    "                       model_name='diabetes-experiment-model',\n",
    "                       model_path=f\"./{str(best_run.get_file_names()[0])}\",\n",
    "                       model_framework=Model.Framework.SCIKITLEARN,  \n",
    "                       model_framework_version=sklearn.__version__,  \n",
    "                       sample_input_dataset=input_dataset,\n",
    "                       sample_output_dataset=output_dataset,\n",
    "                       resource_configuration=ResourceConfiguration(cpu=1, memory_in_gb=0.5),\n",
    "                       description='Ridge regression model to predict diabetes progression.',\n",
    "                       tags={'area': 'diabetes', 'type': 'regression'})\n",
    "\n",
    "\n",
    "\n",
    "print('Name:', model.name)\n",
    "print('Version:', model.version)"
   ]
  },
  {
   "cell_type": "code",
   "execution_count": null,
   "metadata": {},
   "outputs": [],
   "source": [
    "service_name = 'diabetes-service'\n",
    "\n",
    "service = Model.deploy(ws, service_name, [model], overwrite=True)\n",
    "service.wait_for_deployment(show_output=True)"
   ]
  },
  {
   "cell_type": "code",
   "execution_count": null,
   "metadata": {},
   "outputs": [],
   "source": [
    "import json\n",
    "\n",
    "input_payload = json.dumps({\n",
    "    'data': X_train[0:2].values.tolist(),\n",
    "    'method': 'predict'\n",
    "})\n",
    "\n",
    "output = service.run(input_payload)\n",
    "\n",
    "print(output)"
   ]
  }
 ],
 "metadata": {
  "kernelspec": {
   "display_name": "Python 3.10.8 64-bit",
   "language": "python",
   "name": "python3"
  },
  "language_info": {
   "codemirror_mode": {
    "name": "ipython",
    "version": 3
   },
   "file_extension": ".py",
   "mimetype": "text/x-python",
   "name": "python",
   "nbconvert_exporter": "python",
   "pygments_lexer": "ipython3",
   "version": "3.10.8"
  },
  "orig_nbformat": 4,
  "vscode": {
   "interpreter": {
    "hash": "fb4569285eef3a3450cb62085a5b1e0da4bce0af555edc33dcf29baf3acc1368"
   }
  }
 },
 "nbformat": 4,
 "nbformat_minor": 2
}
