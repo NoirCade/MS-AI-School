{
 "cells": [
  {
   "cell_type": "code",
   "execution_count": 1,
   "metadata": {},
   "outputs": [],
   "source": [
    "import pandas as pd"
   ]
  },
  {
   "cell_type": "code",
   "execution_count": 2,
   "metadata": {},
   "outputs": [
    {
     "data": {
      "text/plain": [
       "서울     1116\n",
       "부산    12259\n",
       "인천    65119\n",
       "대구    16699\n",
       "dtype: int64"
      ]
     },
     "execution_count": 2,
     "metadata": {},
     "output_type": "execute_result"
    }
   ],
   "source": [
    "s = pd.Series([1116, 12259, 65119, 16699], index=['서울', '부산', '인천', '대구'])\n",
    "s"
   ]
  },
  {
   "cell_type": "code",
   "execution_count": 3,
   "metadata": {},
   "outputs": [
    {
     "data": {
      "text/plain": [
       "Index(['서울', '부산', '인천', '대구'], dtype='object')"
      ]
     },
     "execution_count": 3,
     "metadata": {},
     "output_type": "execute_result"
    }
   ],
   "source": [
    "s.index"
   ]
  },
  {
   "cell_type": "code",
   "execution_count": 4,
   "metadata": {},
   "outputs": [
    {
     "data": {
      "text/plain": [
       "array([ 1116, 12259, 65119, 16699], dtype=int64)"
      ]
     },
     "execution_count": 4,
     "metadata": {},
     "output_type": "execute_result"
    }
   ],
   "source": [
    "s.values"
   ]
  },
  {
   "cell_type": "code",
   "execution_count": 5,
   "metadata": {},
   "outputs": [],
   "source": [
    "s.name = '농작물 생산량(톤)'"
   ]
  },
  {
   "cell_type": "code",
   "execution_count": 6,
   "metadata": {},
   "outputs": [],
   "source": [
    "s.index.name = '지역구'"
   ]
  },
  {
   "cell_type": "code",
   "execution_count": 7,
   "metadata": {},
   "outputs": [
    {
     "data": {
      "text/plain": [
       "지역구\n",
       "서울     1116\n",
       "부산    12259\n",
       "인천    65119\n",
       "대구    16699\n",
       "Name: 농작물 생산량(톤), dtype: int64"
      ]
     },
     "execution_count": 7,
     "metadata": {},
     "output_type": "execute_result"
    }
   ],
   "source": [
    "s"
   ]
  },
  {
   "cell_type": "code",
   "execution_count": 8,
   "metadata": {},
   "outputs": [
    {
     "data": {
      "text/plain": [
       "지역구\n",
       "서울     1.116\n",
       "부산    12.259\n",
       "인천    65.119\n",
       "대구    16.699\n",
       "Name: 농작물 생산량(k톤), dtype: float64"
      ]
     },
     "execution_count": 8,
     "metadata": {},
     "output_type": "execute_result"
    }
   ],
   "source": [
    "s1 = s/1000\n",
    "s1.name = '농작물 생산량(k톤)'\n",
    "s1"
   ]
  },
  {
   "cell_type": "code",
   "execution_count": 9,
   "metadata": {},
   "outputs": [
    {
     "data": {
      "text/plain": [
       "지역구\n",
       "서울    0.03\n",
       "부산    0.28\n",
       "인천    1.46\n",
       "대구    0.37\n",
       "Name: 농작물 생산 비율(%), dtype: float64"
      ]
     },
     "execution_count": 9,
     "metadata": {},
     "output_type": "execute_result"
    }
   ],
   "source": [
    "s2 = (s/4456952*100).round(2)\n",
    "s2.name = '농작물 생산 비율(%)'\n",
    "s2"
   ]
  },
  {
   "cell_type": "code",
   "execution_count": 10,
   "metadata": {},
   "outputs": [
    {
     "data": {
      "text/plain": [
       "지역구\n",
       "서울     1116\n",
       "부산    12259\n",
       "인천    65119\n",
       "대구    16699\n",
       "Name: 농작물 생산량(톤), dtype: int64"
      ]
     },
     "execution_count": 10,
     "metadata": {},
     "output_type": "execute_result"
    }
   ],
   "source": [
    "s"
   ]
  },
  {
   "cell_type": "code",
   "execution_count": 11,
   "metadata": {},
   "outputs": [
    {
     "data": {
      "text/plain": [
       "(1116, 1116)"
      ]
     },
     "execution_count": 11,
     "metadata": {},
     "output_type": "execute_result"
    }
   ],
   "source": [
    "s[0], s['서울']"
   ]
  },
  {
   "cell_type": "code",
   "execution_count": 12,
   "metadata": {},
   "outputs": [
    {
     "data": {
      "text/plain": [
       "지역구\n",
       "인천    65119\n",
       "서울     1116\n",
       "Name: 농작물 생산량(톤), dtype: int64"
      ]
     },
     "execution_count": 12,
     "metadata": {},
     "output_type": "execute_result"
    }
   ],
   "source": [
    "s[[2,0]]"
   ]
  },
  {
   "cell_type": "code",
   "execution_count": 13,
   "metadata": {},
   "outputs": [
    {
     "data": {
      "text/plain": [
       "지역구\n",
       "서울     1116\n",
       "인천    65119\n",
       "Name: 농작물 생산량(톤), dtype: int64"
      ]
     },
     "execution_count": 13,
     "metadata": {},
     "output_type": "execute_result"
    }
   ],
   "source": [
    "s[[0,2]]"
   ]
  },
  {
   "cell_type": "code",
   "execution_count": 14,
   "metadata": {},
   "outputs": [
    {
     "data": {
      "text/plain": [
       "지역구\n",
       "서울     1116\n",
       "부산    12259\n",
       "Name: 농작물 생산량(톤), dtype: int64"
      ]
     },
     "execution_count": 14,
     "metadata": {},
     "output_type": "execute_result"
    }
   ],
   "source": [
    "s[0:2]"
   ]
  },
  {
   "cell_type": "code",
   "execution_count": 15,
   "metadata": {},
   "outputs": [
    {
     "data": {
      "text/plain": [
       "지역구\n",
       "서울     1116\n",
       "부산    12259\n",
       "인천    65119\n",
       "Name: 농작물 생산량(톤), dtype: int64"
      ]
     },
     "execution_count": 15,
     "metadata": {},
     "output_type": "execute_result"
    }
   ],
   "source": [
    "s['서울':'인천']"
   ]
  },
  {
   "cell_type": "markdown",
   "metadata": {},
   "source": [
    "Series는 Index를 통해 각 값에 접근 가능\n",
    "Series의 묶음이 곧 DataFrame!"
   ]
  },
  {
   "cell_type": "code",
   "execution_count": 16,
   "metadata": {},
   "outputs": [
    {
     "data": {
      "text/plain": [
       "지역구\n",
       "부산    12259\n",
       "인천    65119\n",
       "대구    16699\n",
       "Name: 농작물 생산량(톤), dtype: int64"
      ]
     },
     "execution_count": 16,
     "metadata": {},
     "output_type": "execute_result"
    }
   ],
   "source": [
    "s[s>10000]"
   ]
  },
  {
   "cell_type": "code",
   "execution_count": 17,
   "metadata": {},
   "outputs": [
    {
     "data": {
      "text/plain": [
       "지역구\n",
       "부산    12259\n",
       "대구    16699\n",
       "Name: 농작물 생산량(톤), dtype: int64"
      ]
     },
     "execution_count": 17,
     "metadata": {},
     "output_type": "execute_result"
    }
   ],
   "source": [
    "s[(s>10000) & (s<20000)]"
   ]
  },
  {
   "cell_type": "code",
   "execution_count": 18,
   "metadata": {},
   "outputs": [
    {
     "data": {
      "text/plain": [
       "지역구\n",
       "인천    1.46\n",
       "Name: 농작물 생산 비율(%), dtype: float64"
      ]
     },
     "execution_count": 18,
     "metadata": {},
     "output_type": "execute_result"
    }
   ],
   "source": [
    "s2[s2>0.5]"
   ]
  },
  {
   "cell_type": "markdown",
   "metadata": {},
   "source": [
    "조건을 통해 해당 조건에 맞는 부분만 호출할 수도 있다"
   ]
  },
  {
   "cell_type": "code",
   "execution_count": 19,
   "metadata": {},
   "outputs": [
    {
     "data": {
      "text/plain": [
       "서울     1116\n",
       "부산    12259\n",
       "인천    65119\n",
       "대구    16699\n",
       "dtype: int64"
      ]
     },
     "execution_count": 19,
     "metadata": {},
     "output_type": "execute_result"
    }
   ],
   "source": [
    "s21 = pd.Series([1116, 12259, 65119, 16699], index=['서울', '부산', '인천', '대구'])\n",
    "s21"
   ]
  },
  {
   "cell_type": "code",
   "execution_count": 20,
   "metadata": {},
   "outputs": [],
   "source": [
    "s20 = pd.Series([628, 11075, 56013, 15695], index=['서울', '부산', '인천', '대구'])"
   ]
  },
  {
   "cell_type": "code",
   "execution_count": 21,
   "metadata": {},
   "outputs": [
    {
     "data": {
      "text/plain": [
       "서울     488\n",
       "부산    1184\n",
       "인천    9106\n",
       "대구    1004\n",
       "dtype: int64"
      ]
     },
     "execution_count": 21,
     "metadata": {},
     "output_type": "execute_result"
    }
   ],
   "source": [
    "s21-s20"
   ]
  },
  {
   "cell_type": "code",
   "execution_count": 22,
   "metadata": {},
   "outputs": [],
   "source": [
    "import numpy as np"
   ]
  },
  {
   "cell_type": "code",
   "execution_count": 23,
   "metadata": {},
   "outputs": [
    {
     "data": {
      "text/plain": [
       "대구     1004.0\n",
       "부산     1184.0\n",
       "서울     -628.0\n",
       "인천     9106.0\n",
       "제주도    1116.0\n",
       "dtype: float64"
      ]
     },
     "execution_count": 23,
     "metadata": {},
     "output_type": "execute_result"
    }
   ],
   "source": [
    "s21 = pd.Series([1116, 12259, 65119, 16699], index=['제주도', '부산', '인천', '대구'])\n",
    "s_sub = s21.sub(s20, fill_value=0)\n",
    "s_sub"
   ]
  },
  {
   "cell_type": "code",
   "execution_count": 24,
   "metadata": {},
   "outputs": [
    {
     "data": {
      "text/plain": [
       "대구     1004.0\n",
       "부산     1184.0\n",
       "서울        NaN\n",
       "인천     9106.0\n",
       "제주도       NaN\n",
       "dtype: float64"
      ]
     },
     "execution_count": 24,
     "metadata": {},
     "output_type": "execute_result"
    }
   ],
   "source": [
    "s_sub2 = s21.sub(s20)\n",
    "s_sub2"
   ]
  },
  {
   "cell_type": "code",
   "execution_count": 25,
   "metadata": {},
   "outputs": [
    {
     "data": {
      "text/plain": [
       "대구     1004.0\n",
       "부산     1184.0\n",
       "서울        0.0\n",
       "인천     9106.0\n",
       "제주도       0.0\n",
       "dtype: float64"
      ]
     },
     "execution_count": 25,
     "metadata": {},
     "output_type": "execute_result"
    }
   ],
   "source": [
    "s_sub2.fillna(0)"
   ]
  },
  {
   "cell_type": "code",
   "execution_count": 26,
   "metadata": {},
   "outputs": [],
   "source": [
    "s21 = pd.Series([1116, 12259, 65119, 16699], index=['서울', '부산', '인천', '대구'])"
   ]
  },
  {
   "cell_type": "code",
   "execution_count": 27,
   "metadata": {},
   "outputs": [
    {
     "data": {
      "text/plain": [
       "서울    77.71\n",
       "부산    10.69\n",
       "인천    16.26\n",
       "대구     6.40\n",
       "dtype: float64"
      ]
     },
     "execution_count": 27,
     "metadata": {},
     "output_type": "execute_result"
    }
   ],
   "source": [
    "rs = ((s21 - s20) / s20 * 100).round(2)\n",
    "rs"
   ]
  },
  {
   "cell_type": "code",
   "execution_count": 28,
   "metadata": {},
   "outputs": [
    {
     "data": {
      "text/plain": [
       "서울     0.00\n",
       "부산    10.69\n",
       "인천    16.26\n",
       "대구     6.40\n",
       "dtype: float64"
      ]
     },
     "execution_count": 28,
     "metadata": {},
     "output_type": "execute_result"
    }
   ],
   "source": [
    "rs['서울'] = 0\n",
    "rs"
   ]
  },
  {
   "cell_type": "code",
   "execution_count": 29,
   "metadata": {},
   "outputs": [
    {
     "data": {
      "text/plain": [
       "서울    77.71\n",
       "부산    10.69\n",
       "인천    16.26\n",
       "대구     6.40\n",
       "dtype: float64"
      ]
     },
     "execution_count": 29,
     "metadata": {},
     "output_type": "execute_result"
    }
   ],
   "source": [
    "rs['서울'] = 77.71\n",
    "rs"
   ]
  },
  {
   "cell_type": "code",
   "execution_count": 30,
   "metadata": {},
   "outputs": [
    {
     "data": {
      "text/plain": [
       "서울    77.71\n",
       "부산    10.69\n",
       "인천    16.26\n",
       "dtype: float64"
      ]
     },
     "execution_count": 30,
     "metadata": {},
     "output_type": "execute_result"
    }
   ],
   "source": [
    "del rs['대구']\n",
    "rs"
   ]
  },
  {
   "cell_type": "code",
   "execution_count": 31,
   "metadata": {},
   "outputs": [
    {
     "data": {
      "text/plain": [
       "서울    77.71\n",
       "부산    10.69\n",
       "인천    16.26\n",
       "대구     6.40\n",
       "dtype: float64"
      ]
     },
     "execution_count": 31,
     "metadata": {},
     "output_type": "execute_result"
    }
   ],
   "source": [
    "rs['대구'] = 6.40\n",
    "rs"
   ]
  },
  {
   "cell_type": "code",
   "execution_count": 32,
   "metadata": {},
   "outputs": [],
   "source": [
    "import random"
   ]
  },
  {
   "cell_type": "code",
   "execution_count": 33,
   "metadata": {},
   "outputs": [],
   "source": [
    "key100 = random.sample(list(range(1000)), 100)\n",
    "key80 = random.sample(list(range(1000)), 80)\n",
    "value100 = random.sample(list(range(1000)), 100)\n",
    "value80 = random.sample(list(range(1000)), 80)\n",
    "\n",
    "s100 = pd.Series(value100, index=key100)\n",
    "s80 = pd.Series(value80, index=key80)"
   ]
  },
  {
   "cell_type": "code",
   "execution_count": 34,
   "metadata": {},
   "outputs": [
    {
     "name": "stdout",
     "output_type": "stream",
     "text": [
      "<class 'list'>\n",
      "<class 'list'>\n"
     ]
    }
   ],
   "source": [
    "print(type(random.sample(range(1000), 100)))\n",
    "print(type(key100))"
   ]
  },
  {
   "cell_type": "code",
   "execution_count": 35,
   "metadata": {},
   "outputs": [],
   "source": [
    "s100_sub_80 = s100 - s80"
   ]
  },
  {
   "cell_type": "code",
   "execution_count": 36,
   "metadata": {},
   "outputs": [
    {
     "name": "stdout",
     "output_type": "stream",
     "text": [
      "114 True\n",
      "117 True\n",
      "342 True\n",
      "404 True\n",
      "713 True\n",
      "809 True\n",
      "901 True\n",
      "942 True\n"
     ]
    }
   ],
   "source": [
    "for k, v in s100_sub_80.notnull().items():\n",
    "    if v:\n",
    "        print(k,v)"
   ]
  },
  {
   "cell_type": "code",
   "execution_count": 37,
   "metadata": {},
   "outputs": [
    {
     "data": {
      "text/html": [
       "<div>\n",
       "<style scoped>\n",
       "    .dataframe tbody tr th:only-of-type {\n",
       "        vertical-align: middle;\n",
       "    }\n",
       "\n",
       "    .dataframe tbody tr th {\n",
       "        vertical-align: top;\n",
       "    }\n",
       "\n",
       "    .dataframe thead th {\n",
       "        text-align: right;\n",
       "    }\n",
       "</style>\n",
       "<table border=\"1\" class=\"dataframe\">\n",
       "  <thead>\n",
       "    <tr style=\"text-align: right;\">\n",
       "      <th></th>\n",
       "      <th>2018</th>\n",
       "      <th>2019</th>\n",
       "      <th>2020</th>\n",
       "      <th>2021</th>\n",
       "      <th>농지면적순위</th>\n",
       "    </tr>\n",
       "  </thead>\n",
       "  <tbody>\n",
       "    <tr>\n",
       "      <th>서울</th>\n",
       "      <td>712</td>\n",
       "      <td>678</td>\n",
       "      <td>628</td>\n",
       "      <td>1116</td>\n",
       "      <td>4</td>\n",
       "    </tr>\n",
       "    <tr>\n",
       "      <th>부산</th>\n",
       "      <td>13597</td>\n",
       "      <td>12700</td>\n",
       "      <td>11075</td>\n",
       "      <td>12259</td>\n",
       "      <td>3</td>\n",
       "    </tr>\n",
       "    <tr>\n",
       "      <th>대구</th>\n",
       "      <td>16052</td>\n",
       "      <td>15148</td>\n",
       "      <td>15695</td>\n",
       "      <td>16699</td>\n",
       "      <td>2</td>\n",
       "    </tr>\n",
       "    <tr>\n",
       "      <th>인천</th>\n",
       "      <td>56024</td>\n",
       "      <td>55443</td>\n",
       "      <td>56013</td>\n",
       "      <td>65119</td>\n",
       "      <td>1</td>\n",
       "    </tr>\n",
       "  </tbody>\n",
       "</table>\n",
       "</div>"
      ],
      "text/plain": [
       "     2018   2019   2020   2021  농지면적순위\n",
       "서울    712    678    628   1116       4\n",
       "부산  13597  12700  11075  12259       3\n",
       "대구  16052  15148  15695  16699       2\n",
       "인천  56024  55443  56013  65119       1"
      ]
     },
     "execution_count": 37,
     "metadata": {},
     "output_type": "execute_result"
    }
   ],
   "source": [
    "data = {\n",
    "'2021' : [1116, 12259, 16699, 65119],\n",
    "'2020' : [628, 11075, 15695, 56013],\n",
    "'2019' : [678,12700,15148,55443],\n",
    "'2018' : [712, 13597, 16052, 56024],\n",
    "'농지면적순위' : [4,3,2,1]\n",
    "}\n",
    "columns = ['2018', '2019', '2020', '2021', '농지면적순위']\n",
    "index = ['서울','부산','대구','인천']\n",
    "df = pd.DataFrame(data, index=index, columns=columns)\n",
    "df"
   ]
  },
  {
   "cell_type": "code",
   "execution_count": 38,
   "metadata": {},
   "outputs": [
    {
     "name": "stdout",
     "output_type": "stream",
     "text": [
      "Index(['2018', '2019', '2020', '2021', '농지면적순위'], dtype='object')\n",
      "Index(['서울', '부산', '대구', '인천'], dtype='object')\n",
      "[[  712   678   628  1116     4]\n",
      " [13597 12700 11075 12259     3]\n",
      " [16052 15148 15695 16699     2]\n",
      " [56024 55443 56013 65119     1]]\n"
     ]
    }
   ],
   "source": [
    "print(df.columns)\n",
    "print(df.index)\n",
    "print(df.values)"
   ]
  },
  {
   "cell_type": "code",
   "execution_count": 39,
   "metadata": {},
   "outputs": [
    {
     "data": {
      "text/plain": [
       "<bound method DataFrame.info of      2018   2019   2020   2021  농지면적순위\n",
       "서울    712    678    628   1116       4\n",
       "부산  13597  12700  11075  12259       3\n",
       "대구  16052  15148  15695  16699       2\n",
       "인천  56024  55443  56013  65119       1>"
      ]
     },
     "execution_count": 39,
     "metadata": {},
     "output_type": "execute_result"
    }
   ],
   "source": [
    "df.info"
   ]
  },
  {
   "cell_type": "code",
   "execution_count": 40,
   "metadata": {},
   "outputs": [
    {
     "data": {
      "text/html": [
       "<div>\n",
       "<style scoped>\n",
       "    .dataframe tbody tr th:only-of-type {\n",
       "        vertical-align: middle;\n",
       "    }\n",
       "\n",
       "    .dataframe tbody tr th {\n",
       "        vertical-align: top;\n",
       "    }\n",
       "\n",
       "    .dataframe thead th {\n",
       "        text-align: right;\n",
       "    }\n",
       "</style>\n",
       "<table border=\"1\" class=\"dataframe\">\n",
       "  <thead>\n",
       "    <tr style=\"text-align: right;\">\n",
       "      <th></th>\n",
       "      <th>2018</th>\n",
       "      <th>2019</th>\n",
       "      <th>2020</th>\n",
       "      <th>2021</th>\n",
       "      <th>농지면적순위</th>\n",
       "    </tr>\n",
       "    <tr>\n",
       "      <th>지역</th>\n",
       "      <th></th>\n",
       "      <th></th>\n",
       "      <th></th>\n",
       "      <th></th>\n",
       "      <th></th>\n",
       "    </tr>\n",
       "  </thead>\n",
       "  <tbody>\n",
       "    <tr>\n",
       "      <th>서울</th>\n",
       "      <td>712</td>\n",
       "      <td>678</td>\n",
       "      <td>628</td>\n",
       "      <td>1116</td>\n",
       "      <td>4</td>\n",
       "    </tr>\n",
       "    <tr>\n",
       "      <th>부산</th>\n",
       "      <td>13597</td>\n",
       "      <td>12700</td>\n",
       "      <td>11075</td>\n",
       "      <td>12259</td>\n",
       "      <td>3</td>\n",
       "    </tr>\n",
       "    <tr>\n",
       "      <th>대구</th>\n",
       "      <td>16052</td>\n",
       "      <td>15148</td>\n",
       "      <td>15695</td>\n",
       "      <td>16699</td>\n",
       "      <td>2</td>\n",
       "    </tr>\n",
       "    <tr>\n",
       "      <th>인천</th>\n",
       "      <td>56024</td>\n",
       "      <td>55443</td>\n",
       "      <td>56013</td>\n",
       "      <td>65119</td>\n",
       "      <td>1</td>\n",
       "    </tr>\n",
       "  </tbody>\n",
       "</table>\n",
       "</div>"
      ],
      "text/plain": [
       "     2018   2019   2020   2021  농지면적순위\n",
       "지역                                    \n",
       "서울    712    678    628   1116       4\n",
       "부산  13597  12700  11075  12259       3\n",
       "대구  16052  15148  15695  16699       2\n",
       "인천  56024  55443  56013  65119       1"
      ]
     },
     "execution_count": 40,
     "metadata": {},
     "output_type": "execute_result"
    }
   ],
   "source": [
    "df.index.name = '지역'\n",
    "df"
   ]
  },
  {
   "cell_type": "code",
   "execution_count": 41,
   "metadata": {},
   "outputs": [
    {
     "data": {
      "text/html": [
       "<div>\n",
       "<style scoped>\n",
       "    .dataframe tbody tr th:only-of-type {\n",
       "        vertical-align: middle;\n",
       "    }\n",
       "\n",
       "    .dataframe tbody tr th {\n",
       "        vertical-align: top;\n",
       "    }\n",
       "\n",
       "    .dataframe thead th {\n",
       "        text-align: right;\n",
       "    }\n",
       "</style>\n",
       "<table border=\"1\" class=\"dataframe\">\n",
       "  <thead>\n",
       "    <tr style=\"text-align: right;\">\n",
       "      <th>특성</th>\n",
       "      <th>2018</th>\n",
       "      <th>2019</th>\n",
       "      <th>2020</th>\n",
       "      <th>2021</th>\n",
       "      <th>농지면적순위</th>\n",
       "    </tr>\n",
       "    <tr>\n",
       "      <th>지역</th>\n",
       "      <th></th>\n",
       "      <th></th>\n",
       "      <th></th>\n",
       "      <th></th>\n",
       "      <th></th>\n",
       "    </tr>\n",
       "  </thead>\n",
       "  <tbody>\n",
       "    <tr>\n",
       "      <th>서울</th>\n",
       "      <td>712</td>\n",
       "      <td>678</td>\n",
       "      <td>628</td>\n",
       "      <td>1116</td>\n",
       "      <td>4</td>\n",
       "    </tr>\n",
       "    <tr>\n",
       "      <th>부산</th>\n",
       "      <td>13597</td>\n",
       "      <td>12700</td>\n",
       "      <td>11075</td>\n",
       "      <td>12259</td>\n",
       "      <td>3</td>\n",
       "    </tr>\n",
       "    <tr>\n",
       "      <th>대구</th>\n",
       "      <td>16052</td>\n",
       "      <td>15148</td>\n",
       "      <td>15695</td>\n",
       "      <td>16699</td>\n",
       "      <td>2</td>\n",
       "    </tr>\n",
       "    <tr>\n",
       "      <th>인천</th>\n",
       "      <td>56024</td>\n",
       "      <td>55443</td>\n",
       "      <td>56013</td>\n",
       "      <td>65119</td>\n",
       "      <td>1</td>\n",
       "    </tr>\n",
       "  </tbody>\n",
       "</table>\n",
       "</div>"
      ],
      "text/plain": [
       "특성   2018   2019   2020   2021  농지면적순위\n",
       "지역                                    \n",
       "서울    712    678    628   1116       4\n",
       "부산  13597  12700  11075  12259       3\n",
       "대구  16052  15148  15695  16699       2\n",
       "인천  56024  55443  56013  65119       1"
      ]
     },
     "execution_count": 41,
     "metadata": {},
     "output_type": "execute_result"
    }
   ],
   "source": [
    "df.columns.name = '특성'\n",
    "df"
   ]
  },
  {
   "cell_type": "code",
   "execution_count": 42,
   "metadata": {},
   "outputs": [
    {
     "data": {
      "text/plain": [
       "0    1.0\n",
       "1    2.0\n",
       "2    3.0\n",
       "3    4.0\n",
       "4    NaN\n",
       "dtype: float64"
      ]
     },
     "execution_count": 42,
     "metadata": {},
     "output_type": "execute_result"
    }
   ],
   "source": [
    "pd.Series([1,2,3,4,None])"
   ]
  },
  {
   "cell_type": "markdown",
   "metadata": {},
   "source": [
    "Series는 모든 데이터 타입이 동일해야하므로, 하나라도 다른 타입이면 모두 같은 타입으로 통일된다!\n",
    "하지만 DataFrame은 rows별로 다른 데이터타입을 가질 수 있다."
   ]
  },
  {
   "cell_type": "code",
   "execution_count": 43,
   "metadata": {},
   "outputs": [
    {
     "data": {
      "text/html": [
       "<div>\n",
       "<style scoped>\n",
       "    .dataframe tbody tr th:only-of-type {\n",
       "        vertical-align: middle;\n",
       "    }\n",
       "\n",
       "    .dataframe tbody tr th {\n",
       "        vertical-align: top;\n",
       "    }\n",
       "\n",
       "    .dataframe thead th {\n",
       "        text-align: right;\n",
       "    }\n",
       "</style>\n",
       "<table border=\"1\" class=\"dataframe\">\n",
       "  <thead>\n",
       "    <tr style=\"text-align: right;\">\n",
       "      <th>특성</th>\n",
       "      <th>2018</th>\n",
       "      <th>2019</th>\n",
       "      <th>2020</th>\n",
       "      <th>2021</th>\n",
       "      <th>농지면적순위</th>\n",
       "      <th>2018-2021 변화율</th>\n",
       "    </tr>\n",
       "    <tr>\n",
       "      <th>지역</th>\n",
       "      <th></th>\n",
       "      <th></th>\n",
       "      <th></th>\n",
       "      <th></th>\n",
       "      <th></th>\n",
       "      <th></th>\n",
       "    </tr>\n",
       "  </thead>\n",
       "  <tbody>\n",
       "    <tr>\n",
       "      <th>서울</th>\n",
       "      <td>712</td>\n",
       "      <td>678</td>\n",
       "      <td>628</td>\n",
       "      <td>1116</td>\n",
       "      <td>4</td>\n",
       "      <td>56.74</td>\n",
       "    </tr>\n",
       "    <tr>\n",
       "      <th>부산</th>\n",
       "      <td>13597</td>\n",
       "      <td>12700</td>\n",
       "      <td>11075</td>\n",
       "      <td>12259</td>\n",
       "      <td>3</td>\n",
       "      <td>-9.84</td>\n",
       "    </tr>\n",
       "    <tr>\n",
       "      <th>대구</th>\n",
       "      <td>16052</td>\n",
       "      <td>15148</td>\n",
       "      <td>15695</td>\n",
       "      <td>16699</td>\n",
       "      <td>2</td>\n",
       "      <td>4.03</td>\n",
       "    </tr>\n",
       "    <tr>\n",
       "      <th>인천</th>\n",
       "      <td>56024</td>\n",
       "      <td>55443</td>\n",
       "      <td>56013</td>\n",
       "      <td>65119</td>\n",
       "      <td>1</td>\n",
       "      <td>16.23</td>\n",
       "    </tr>\n",
       "  </tbody>\n",
       "</table>\n",
       "</div>"
      ],
      "text/plain": [
       "특성   2018   2019   2020   2021  농지면적순위  2018-2021 변화율\n",
       "지역                                                   \n",
       "서울    712    678    628   1116       4          56.74\n",
       "부산  13597  12700  11075  12259       3          -9.84\n",
       "대구  16052  15148  15695  16699       2           4.03\n",
       "인천  56024  55443  56013  65119       1          16.23"
      ]
     },
     "execution_count": 43,
     "metadata": {},
     "output_type": "execute_result"
    }
   ],
   "source": [
    "df['2018-2021 변화율'] = ((df['2021'] - df['2018']) / df['2018']*100).round(2)\n",
    "df"
   ]
  },
  {
   "cell_type": "code",
   "execution_count": 44,
   "metadata": {},
   "outputs": [
    {
     "data": {
      "text/html": [
       "<div>\n",
       "<style scoped>\n",
       "    .dataframe tbody tr th:only-of-type {\n",
       "        vertical-align: middle;\n",
       "    }\n",
       "\n",
       "    .dataframe tbody tr th {\n",
       "        vertical-align: top;\n",
       "    }\n",
       "\n",
       "    .dataframe thead th {\n",
       "        text-align: right;\n",
       "    }\n",
       "</style>\n",
       "<table border=\"1\" class=\"dataframe\">\n",
       "  <thead>\n",
       "    <tr style=\"text-align: right;\">\n",
       "      <th>지역</th>\n",
       "      <th>서울</th>\n",
       "      <th>부산</th>\n",
       "      <th>대구</th>\n",
       "      <th>인천</th>\n",
       "    </tr>\n",
       "    <tr>\n",
       "      <th>특성</th>\n",
       "      <th></th>\n",
       "      <th></th>\n",
       "      <th></th>\n",
       "      <th></th>\n",
       "    </tr>\n",
       "  </thead>\n",
       "  <tbody>\n",
       "    <tr>\n",
       "      <th>2018</th>\n",
       "      <td>712.00</td>\n",
       "      <td>13597.00</td>\n",
       "      <td>16052.00</td>\n",
       "      <td>56024.00</td>\n",
       "    </tr>\n",
       "    <tr>\n",
       "      <th>2019</th>\n",
       "      <td>678.00</td>\n",
       "      <td>12700.00</td>\n",
       "      <td>15148.00</td>\n",
       "      <td>55443.00</td>\n",
       "    </tr>\n",
       "    <tr>\n",
       "      <th>2020</th>\n",
       "      <td>628.00</td>\n",
       "      <td>11075.00</td>\n",
       "      <td>15695.00</td>\n",
       "      <td>56013.00</td>\n",
       "    </tr>\n",
       "    <tr>\n",
       "      <th>2021</th>\n",
       "      <td>1116.00</td>\n",
       "      <td>12259.00</td>\n",
       "      <td>16699.00</td>\n",
       "      <td>65119.00</td>\n",
       "    </tr>\n",
       "    <tr>\n",
       "      <th>농지면적순위</th>\n",
       "      <td>4.00</td>\n",
       "      <td>3.00</td>\n",
       "      <td>2.00</td>\n",
       "      <td>1.00</td>\n",
       "    </tr>\n",
       "    <tr>\n",
       "      <th>2018-2021 변화율</th>\n",
       "      <td>56.74</td>\n",
       "      <td>-9.84</td>\n",
       "      <td>4.03</td>\n",
       "      <td>16.23</td>\n",
       "    </tr>\n",
       "  </tbody>\n",
       "</table>\n",
       "</div>"
      ],
      "text/plain": [
       "지역                  서울        부산        대구        인천\n",
       "특성                                                  \n",
       "2018            712.00  13597.00  16052.00  56024.00\n",
       "2019            678.00  12700.00  15148.00  55443.00\n",
       "2020            628.00  11075.00  15695.00  56013.00\n",
       "2021           1116.00  12259.00  16699.00  65119.00\n",
       "농지면적순위            4.00      3.00      2.00      1.00\n",
       "2018-2021 변화율    56.74     -9.84      4.03     16.23"
      ]
     },
     "execution_count": 44,
     "metadata": {},
     "output_type": "execute_result"
    }
   ],
   "source": [
    "df.T"
   ]
  },
  {
   "cell_type": "markdown",
   "metadata": {},
   "source": [
    "Column별로 데이터타입이 다 동일해야하므로, 전치 행렬로 바꾸면 데이터타입이 모두 float으로 변경되는 것을 볼 수 있음"
   ]
  },
  {
   "cell_type": "code",
   "execution_count": 45,
   "metadata": {},
   "outputs": [
    {
     "data": {
      "text/html": [
       "<div>\n",
       "<style scoped>\n",
       "    .dataframe tbody tr th:only-of-type {\n",
       "        vertical-align: middle;\n",
       "    }\n",
       "\n",
       "    .dataframe tbody tr th {\n",
       "        vertical-align: top;\n",
       "    }\n",
       "\n",
       "    .dataframe thead th {\n",
       "        text-align: right;\n",
       "    }\n",
       "</style>\n",
       "<table border=\"1\" class=\"dataframe\">\n",
       "  <thead>\n",
       "    <tr style=\"text-align: right;\">\n",
       "      <th>지역</th>\n",
       "      <th>서울</th>\n",
       "      <th>부산</th>\n",
       "      <th>대구</th>\n",
       "      <th>인천</th>\n",
       "    </tr>\n",
       "    <tr>\n",
       "      <th>특성</th>\n",
       "      <th></th>\n",
       "      <th></th>\n",
       "      <th></th>\n",
       "      <th></th>\n",
       "    </tr>\n",
       "  </thead>\n",
       "  <tbody>\n",
       "    <tr>\n",
       "      <th>2018</th>\n",
       "      <td>712</td>\n",
       "      <td>13597</td>\n",
       "      <td>16052</td>\n",
       "      <td>56024</td>\n",
       "    </tr>\n",
       "    <tr>\n",
       "      <th>2019</th>\n",
       "      <td>678</td>\n",
       "      <td>12700</td>\n",
       "      <td>15148</td>\n",
       "      <td>55443</td>\n",
       "    </tr>\n",
       "    <tr>\n",
       "      <th>2020</th>\n",
       "      <td>628</td>\n",
       "      <td>11075</td>\n",
       "      <td>15695</td>\n",
       "      <td>56013</td>\n",
       "    </tr>\n",
       "    <tr>\n",
       "      <th>2021</th>\n",
       "      <td>1116</td>\n",
       "      <td>12259</td>\n",
       "      <td>16699</td>\n",
       "      <td>65119</td>\n",
       "    </tr>\n",
       "    <tr>\n",
       "      <th>농지면적순위</th>\n",
       "      <td>4</td>\n",
       "      <td>3</td>\n",
       "      <td>2</td>\n",
       "      <td>1</td>\n",
       "    </tr>\n",
       "    <tr>\n",
       "      <th>2018-2021 변화율</th>\n",
       "      <td>56</td>\n",
       "      <td>-9</td>\n",
       "      <td>4</td>\n",
       "      <td>16</td>\n",
       "    </tr>\n",
       "  </tbody>\n",
       "</table>\n",
       "</div>"
      ],
      "text/plain": [
       "지역               서울     부산     대구     인천\n",
       "특성                                      \n",
       "2018            712  13597  16052  56024\n",
       "2019            678  12700  15148  55443\n",
       "2020            628  11075  15695  56013\n",
       "2021           1116  12259  16699  65119\n",
       "농지면적순위            4      3      2      1\n",
       "2018-2021 변화율    56     -9      4     16"
      ]
     },
     "execution_count": 45,
     "metadata": {},
     "output_type": "execute_result"
    }
   ],
   "source": [
    "df['2018-2021 변화율'] = ((df['2021'] - df['2018']) / df['2018']*100).astype(int)\n",
    "df.T"
   ]
  },
  {
   "cell_type": "code",
   "execution_count": 46,
   "metadata": {},
   "outputs": [
    {
     "data": {
      "text/plain": [
       "지역\n",
       "서울      712\n",
       "부산    13597\n",
       "대구    16052\n",
       "인천    56024\n",
       "Name: 2018, dtype: int64"
      ]
     },
     "execution_count": 46,
     "metadata": {},
     "output_type": "execute_result"
    }
   ],
   "source": [
    "df['2018']"
   ]
  },
  {
   "cell_type": "code",
   "execution_count": 47,
   "metadata": {},
   "outputs": [
    {
     "data": {
      "text/html": [
       "<div>\n",
       "<style scoped>\n",
       "    .dataframe tbody tr th:only-of-type {\n",
       "        vertical-align: middle;\n",
       "    }\n",
       "\n",
       "    .dataframe tbody tr th {\n",
       "        vertical-align: top;\n",
       "    }\n",
       "\n",
       "    .dataframe thead th {\n",
       "        text-align: right;\n",
       "    }\n",
       "</style>\n",
       "<table border=\"1\" class=\"dataframe\">\n",
       "  <thead>\n",
       "    <tr style=\"text-align: right;\">\n",
       "      <th>특성</th>\n",
       "      <th>2018</th>\n",
       "      <th>2019</th>\n",
       "      <th>2020</th>\n",
       "      <th>2021</th>\n",
       "      <th>농지면적순위</th>\n",
       "      <th>2018-2021 변화율</th>\n",
       "    </tr>\n",
       "    <tr>\n",
       "      <th>지역</th>\n",
       "      <th></th>\n",
       "      <th></th>\n",
       "      <th></th>\n",
       "      <th></th>\n",
       "      <th></th>\n",
       "      <th></th>\n",
       "    </tr>\n",
       "  </thead>\n",
       "  <tbody>\n",
       "    <tr>\n",
       "      <th>부산</th>\n",
       "      <td>13597</td>\n",
       "      <td>12700</td>\n",
       "      <td>11075</td>\n",
       "      <td>12259</td>\n",
       "      <td>3</td>\n",
       "      <td>-9</td>\n",
       "    </tr>\n",
       "  </tbody>\n",
       "</table>\n",
       "</div>"
      ],
      "text/plain": [
       "특성   2018   2019   2020   2021  농지면적순위  2018-2021 변화율\n",
       "지역                                                   \n",
       "부산  13597  12700  11075  12259       3             -9"
      ]
     },
     "execution_count": 47,
     "metadata": {},
     "output_type": "execute_result"
    }
   ],
   "source": [
    "# loc, iloc\n",
    "df.loc[['부산']]"
   ]
  },
  {
   "cell_type": "code",
   "execution_count": 48,
   "metadata": {},
   "outputs": [
    {
     "data": {
      "text/plain": [
       "특성\n",
       "2018             13597\n",
       "2019             12700\n",
       "2020             11075\n",
       "2021             12259\n",
       "농지면적순위               3\n",
       "2018-2021 변화율       -9\n",
       "Name: 부산, dtype: int64"
      ]
     },
     "execution_count": 48,
     "metadata": {},
     "output_type": "execute_result"
    }
   ],
   "source": [
    "df.loc['부산']"
   ]
  },
  {
   "cell_type": "code",
   "execution_count": 49,
   "metadata": {},
   "outputs": [
    {
     "data": {
      "text/html": [
       "<div>\n",
       "<style scoped>\n",
       "    .dataframe tbody tr th:only-of-type {\n",
       "        vertical-align: middle;\n",
       "    }\n",
       "\n",
       "    .dataframe tbody tr th {\n",
       "        vertical-align: top;\n",
       "    }\n",
       "\n",
       "    .dataframe thead th {\n",
       "        text-align: right;\n",
       "    }\n",
       "</style>\n",
       "<table border=\"1\" class=\"dataframe\">\n",
       "  <thead>\n",
       "    <tr style=\"text-align: right;\">\n",
       "      <th>특성</th>\n",
       "      <th>2018</th>\n",
       "      <th>2019</th>\n",
       "      <th>2020</th>\n",
       "      <th>2021</th>\n",
       "      <th>농지면적순위</th>\n",
       "      <th>2018-2021 변화율</th>\n",
       "    </tr>\n",
       "    <tr>\n",
       "      <th>지역</th>\n",
       "      <th></th>\n",
       "      <th></th>\n",
       "      <th></th>\n",
       "      <th></th>\n",
       "      <th></th>\n",
       "      <th></th>\n",
       "    </tr>\n",
       "  </thead>\n",
       "  <tbody>\n",
       "    <tr>\n",
       "      <th>서울</th>\n",
       "      <td>712</td>\n",
       "      <td>678</td>\n",
       "      <td>628</td>\n",
       "      <td>1116</td>\n",
       "      <td>4</td>\n",
       "      <td>56</td>\n",
       "    </tr>\n",
       "  </tbody>\n",
       "</table>\n",
       "</div>"
      ],
      "text/plain": [
       "특성  2018  2019  2020  2021  농지면적순위  2018-2021 변화율\n",
       "지역                                               \n",
       "서울   712   678   628  1116       4             56"
      ]
     },
     "execution_count": 49,
     "metadata": {},
     "output_type": "execute_result"
    }
   ],
   "source": [
    "df.iloc[[0]]"
   ]
  },
  {
   "cell_type": "code",
   "execution_count": 50,
   "metadata": {},
   "outputs": [
    {
     "data": {
      "text/plain": [
       "712"
      ]
     },
     "execution_count": 50,
     "metadata": {},
     "output_type": "execute_result"
    }
   ],
   "source": [
    "df.iloc[0,0]"
   ]
  },
  {
   "cell_type": "code",
   "execution_count": 51,
   "metadata": {},
   "outputs": [
    {
     "data": {
      "text/plain": [
       "712"
      ]
     },
     "execution_count": 51,
     "metadata": {},
     "output_type": "execute_result"
    }
   ],
   "source": [
    "df['2018']['서울']"
   ]
  },
  {
   "cell_type": "code",
   "execution_count": 52,
   "metadata": {},
   "outputs": [
    {
     "data": {
      "text/plain": [
       "712"
      ]
     },
     "execution_count": 52,
     "metadata": {},
     "output_type": "execute_result"
    }
   ],
   "source": [
    "df.iloc[0][0]"
   ]
  },
  {
   "cell_type": "code",
   "execution_count": 53,
   "metadata": {},
   "outputs": [
    {
     "data": {
      "text/html": [
       "<div>\n",
       "<style scoped>\n",
       "    .dataframe tbody tr th:only-of-type {\n",
       "        vertical-align: middle;\n",
       "    }\n",
       "\n",
       "    .dataframe tbody tr th {\n",
       "        vertical-align: top;\n",
       "    }\n",
       "\n",
       "    .dataframe thead th {\n",
       "        text-align: right;\n",
       "    }\n",
       "</style>\n",
       "<table border=\"1\" class=\"dataframe\">\n",
       "  <thead>\n",
       "    <tr style=\"text-align: right;\">\n",
       "      <th></th>\n",
       "      <th>국어</th>\n",
       "      <th>영어</th>\n",
       "      <th>수학</th>\n",
       "      <th>과학</th>\n",
       "    </tr>\n",
       "  </thead>\n",
       "  <tbody>\n",
       "    <tr>\n",
       "      <th>철수</th>\n",
       "      <td>80</td>\n",
       "      <td>90</td>\n",
       "      <td>70</td>\n",
       "      <td>30</td>\n",
       "    </tr>\n",
       "    <tr>\n",
       "      <th>영희</th>\n",
       "      <td>90</td>\n",
       "      <td>50</td>\n",
       "      <td>100</td>\n",
       "      <td>50</td>\n",
       "    </tr>\n",
       "    <tr>\n",
       "      <th>길동</th>\n",
       "      <td>70</td>\n",
       "      <td>60</td>\n",
       "      <td>50</td>\n",
       "      <td>80</td>\n",
       "    </tr>\n",
       "    <tr>\n",
       "      <th>슬기</th>\n",
       "      <td>50</td>\n",
       "      <td>100</td>\n",
       "      <td>70</td>\n",
       "      <td>80</td>\n",
       "    </tr>\n",
       "  </tbody>\n",
       "</table>\n",
       "</div>"
      ],
      "text/plain": [
       "    국어   영어   수학  과학\n",
       "철수  80   90   70  30\n",
       "영희  90   50  100  50\n",
       "길동  70   60   50  80\n",
       "슬기  50  100   70  80"
      ]
     },
     "execution_count": 53,
     "metadata": {},
     "output_type": "execute_result"
    }
   ],
   "source": [
    "data = {\n",
    "    '국어' : [80, 90, 70, 50],\n",
    "    '영어' : [90, 50, 60, 100],\n",
    "    '수학' : [70, 100, 50, 70],\n",
    "    '과학' : [30, 50, 80, 80]\n",
    "}\n",
    "index = ['철수', '영희', '길동', '슬기']\n",
    "columns = ['국어', '영어', '수학', '과학']\n",
    "\n",
    "df = pd.DataFrame(data, index=index, columns=columns)\n",
    "df"
   ]
  },
  {
   "cell_type": "code",
   "execution_count": 54,
   "metadata": {},
   "outputs": [
    {
     "data": {
      "text/html": [
       "<div>\n",
       "<style scoped>\n",
       "    .dataframe tbody tr th:only-of-type {\n",
       "        vertical-align: middle;\n",
       "    }\n",
       "\n",
       "    .dataframe tbody tr th {\n",
       "        vertical-align: top;\n",
       "    }\n",
       "\n",
       "    .dataframe thead th {\n",
       "        text-align: right;\n",
       "    }\n",
       "</style>\n",
       "<table border=\"1\" class=\"dataframe\">\n",
       "  <thead>\n",
       "    <tr style=\"text-align: right;\">\n",
       "      <th></th>\n",
       "      <th>국어</th>\n",
       "      <th>영어</th>\n",
       "      <th>수학</th>\n",
       "      <th>과학</th>\n",
       "      <th>개인평균</th>\n",
       "    </tr>\n",
       "  </thead>\n",
       "  <tbody>\n",
       "    <tr>\n",
       "      <th>철수</th>\n",
       "      <td>80</td>\n",
       "      <td>90</td>\n",
       "      <td>70</td>\n",
       "      <td>30</td>\n",
       "      <td>67.5</td>\n",
       "    </tr>\n",
       "    <tr>\n",
       "      <th>영희</th>\n",
       "      <td>90</td>\n",
       "      <td>50</td>\n",
       "      <td>100</td>\n",
       "      <td>50</td>\n",
       "      <td>72.5</td>\n",
       "    </tr>\n",
       "    <tr>\n",
       "      <th>길동</th>\n",
       "      <td>70</td>\n",
       "      <td>60</td>\n",
       "      <td>50</td>\n",
       "      <td>80</td>\n",
       "      <td>65.0</td>\n",
       "    </tr>\n",
       "    <tr>\n",
       "      <th>슬기</th>\n",
       "      <td>50</td>\n",
       "      <td>100</td>\n",
       "      <td>70</td>\n",
       "      <td>80</td>\n",
       "      <td>75.0</td>\n",
       "    </tr>\n",
       "  </tbody>\n",
       "</table>\n",
       "</div>"
      ],
      "text/plain": [
       "    국어   영어   수학  과학  개인평균\n",
       "철수  80   90   70  30  67.5\n",
       "영희  90   50  100  50  72.5\n",
       "길동  70   60   50  80  65.0\n",
       "슬기  50  100   70  80  75.0"
      ]
     },
     "execution_count": 54,
     "metadata": {},
     "output_type": "execute_result"
    }
   ],
   "source": [
    "df['개인평균'] = (df['국어'] + df['영어'] + df['수학'] + df['과학']) / 4\n",
    "df"
   ]
  },
  {
   "cell_type": "code",
   "execution_count": 55,
   "metadata": {},
   "outputs": [
    {
     "data": {
      "text/html": [
       "<div>\n",
       "<style scoped>\n",
       "    .dataframe tbody tr th:only-of-type {\n",
       "        vertical-align: middle;\n",
       "    }\n",
       "\n",
       "    .dataframe tbody tr th {\n",
       "        vertical-align: top;\n",
       "    }\n",
       "\n",
       "    .dataframe thead th {\n",
       "        text-align: right;\n",
       "    }\n",
       "</style>\n",
       "<table border=\"1\" class=\"dataframe\">\n",
       "  <thead>\n",
       "    <tr style=\"text-align: right;\">\n",
       "      <th></th>\n",
       "      <th>국어</th>\n",
       "      <th>영어</th>\n",
       "      <th>수학</th>\n",
       "      <th>과학</th>\n",
       "      <th>개인평균</th>\n",
       "    </tr>\n",
       "  </thead>\n",
       "  <tbody>\n",
       "    <tr>\n",
       "      <th>철수</th>\n",
       "      <td>80.0</td>\n",
       "      <td>90.0</td>\n",
       "      <td>70.0</td>\n",
       "      <td>30.0</td>\n",
       "      <td>67.5</td>\n",
       "    </tr>\n",
       "    <tr>\n",
       "      <th>영희</th>\n",
       "      <td>90.0</td>\n",
       "      <td>50.0</td>\n",
       "      <td>100.0</td>\n",
       "      <td>50.0</td>\n",
       "      <td>72.5</td>\n",
       "    </tr>\n",
       "    <tr>\n",
       "      <th>길동</th>\n",
       "      <td>70.0</td>\n",
       "      <td>60.0</td>\n",
       "      <td>50.0</td>\n",
       "      <td>80.0</td>\n",
       "      <td>65.0</td>\n",
       "    </tr>\n",
       "    <tr>\n",
       "      <th>슬기</th>\n",
       "      <td>50.0</td>\n",
       "      <td>100.0</td>\n",
       "      <td>70.0</td>\n",
       "      <td>80.0</td>\n",
       "      <td>75.0</td>\n",
       "    </tr>\n",
       "    <tr>\n",
       "      <th>과목평균</th>\n",
       "      <td>72.5</td>\n",
       "      <td>75.0</td>\n",
       "      <td>72.5</td>\n",
       "      <td>60.0</td>\n",
       "      <td>70.0</td>\n",
       "    </tr>\n",
       "  </tbody>\n",
       "</table>\n",
       "</div>"
      ],
      "text/plain": [
       "        국어     영어     수학    과학  개인평균\n",
       "철수    80.0   90.0   70.0  30.0  67.5\n",
       "영희    90.0   50.0  100.0  50.0  72.5\n",
       "길동    70.0   60.0   50.0  80.0  65.0\n",
       "슬기    50.0  100.0   70.0  80.0  75.0\n",
       "과목평균  72.5   75.0   72.5  60.0  70.0"
      ]
     },
     "execution_count": 55,
     "metadata": {},
     "output_type": "execute_result"
    }
   ],
   "source": [
    "df.loc['과목평균'] = (df.loc['철수'] + df.loc['영희'] + df.loc['길동'] + df.loc['슬기']) / 4\n",
    "df"
   ]
  }
 ],
 "metadata": {
  "kernelspec": {
   "display_name": "Python 3.10.8 64-bit",
   "language": "python",
   "name": "python3"
  },
  "language_info": {
   "codemirror_mode": {
    "name": "ipython",
    "version": 3
   },
   "file_extension": ".py",
   "mimetype": "text/x-python",
   "name": "python",
   "nbconvert_exporter": "python",
   "pygments_lexer": "ipython3",
   "version": "3.10.8"
  },
  "orig_nbformat": 4,
  "vscode": {
   "interpreter": {
    "hash": "fb4569285eef3a3450cb62085a5b1e0da4bce0af555edc33dcf29baf3acc1368"
   }
  }
 },
 "nbformat": 4,
 "nbformat_minor": 2
}
