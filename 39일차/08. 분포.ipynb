{
  "nbformat": 4,
  "nbformat_minor": 0,
  "metadata": {
    "colab": {
      "provenance": []
    },
    "kernelspec": {
      "name": "python3",
      "display_name": "Python 3"
    },
    "language_info": {
      "name": "python"
    }
  },
  "cells": [
    {
      "cell_type": "markdown",
      "source": [
        "# 분포\n",
        "## 카테고리 분포"
      ],
      "metadata": {
        "id": "d2CeS1KsjlsC"
      }
    },
    {
      "cell_type": "markdown",
      "source": [
        "베르누이 분포: 동전처럼 0,1인 분포  \n",
        "카테고리 분포: 확률 분포는 주사위처럼 0,1만을 가지는 변수가 아닌 변수들에 대한 확률 분포\n",
        "\n",
        "x = {1,2,3,4,5,6}  \n",
        "x = 1 -> {1,0,0,0,0,0}  \n",
        "x = 2 -> {0,1,0,0,0,0}  \n",
        "x = 3 -> {0,0,1,0,0,0}  \n",
        "x = 4 -> {0,0,0,1,0,0}  \n",
        "x = 5 -> {0,0,0,0,1,0}  \n",
        "x = 6 -> {0,0,0,0,0,1}  \n",
        "=> one hot encoding\n",
        "\n",
        "$$ \\Sigma{x_k} = 1$$\n",
        "카테고리 분포의 모수는 $μ$ 이며,\n",
        "$$μ = ({μ_1}, …, {μ_k})$$\n",
        "$$ 0 < \\mu ≤ 1 $$\n",
        "$$\\Sigma{\\mu_k} = 1$$\n",
        "\n",
        "카테고리 확률 분포\n",
        "$$Cat({x_1},{x_2},…,{x_k},{\\mu_1},…,{\\mu_k}) = Cat(x:\\mu)$$\n",
        "\n",
        "$$Cat(x:\\mu) = {\\mu_1}\\quad if\\quad x = (1,0,0,…0), \\quad {\\mu_2} \\quad if \\quad x = (0,1,…,0), …$$\n",
        "\n",
        "$$Cat(x:\\mu) = {\\mu_1^{x_1}}{\\mu_2^{x_3}}…{\\mu_k^{x_k}} = \\prod_{k=1}^K{{\\mu_k}^{x_k}}$$\n",
        "\n",
        "카테고리 분포의 기댓값\n",
        "$$E[{x_k}] = \\mu_k$$\n",
        "카테고리 분포의 분산\n",
        "$$Var[{x_k}] \\mu_k(1-\\mu_k)$$"
      ],
      "metadata": {
        "id": "IEnLy_9djovq"
      }
    },
    {
      "cell_type": "code",
      "source": [
        "!pip install koreanize-matplotlib\n",
        "import koreanize_matplotlib\n",
        "import warnings\n",
        "warnings.filterwarnings('ignore')"
      ],
      "metadata": {
        "colab": {
          "base_uri": "https://localhost:8080/"
        },
        "id": "YWhjh4vsouTu",
        "outputId": "4f4f670c-b97d-474a-8d2e-85c4ca18b4df"
      },
      "execution_count": 6,
      "outputs": [
        {
          "output_type": "stream",
          "name": "stdout",
          "text": [
            "Looking in indexes: https://pypi.org/simple, https://us-python.pkg.dev/colab-wheels/public/simple/\n",
            "Requirement already satisfied: koreanize-matplotlib in /usr/local/lib/python3.7/dist-packages (0.0.1)\n",
            "Requirement already satisfied: matplotlib in /usr/local/lib/python3.7/dist-packages (from koreanize-matplotlib) (3.2.2)\n",
            "Requirement already satisfied: cycler>=0.10 in /usr/local/lib/python3.7/dist-packages (from matplotlib->koreanize-matplotlib) (0.11.0)\n",
            "Requirement already satisfied: numpy>=1.11 in /usr/local/lib/python3.7/dist-packages (from matplotlib->koreanize-matplotlib) (1.21.6)\n",
            "Requirement already satisfied: pyparsing!=2.0.4,!=2.1.2,!=2.1.6,>=2.0.1 in /usr/local/lib/python3.7/dist-packages (from matplotlib->koreanize-matplotlib) (3.0.9)\n",
            "Requirement already satisfied: kiwisolver>=1.0.1 in /usr/local/lib/python3.7/dist-packages (from matplotlib->koreanize-matplotlib) (1.4.4)\n",
            "Requirement already satisfied: python-dateutil>=2.1 in /usr/local/lib/python3.7/dist-packages (from matplotlib->koreanize-matplotlib) (2.8.2)\n",
            "Requirement already satisfied: typing-extensions in /usr/local/lib/python3.7/dist-packages (from kiwisolver>=1.0.1->matplotlib->koreanize-matplotlib) (4.1.1)\n",
            "Requirement already satisfied: six>=1.5 in /usr/local/lib/python3.7/dist-packages (from python-dateutil>=2.1->matplotlib->koreanize-matplotlib) (1.15.0)\n"
          ]
        }
      ]
    },
    {
      "cell_type": "code",
      "execution_count": 1,
      "metadata": {
        "id": "r_DdsVHTjeKS"
      },
      "outputs": [],
      "source": [
        "import scipy as sp\n",
        "import scipy.stats\n",
        "mu = [0.1,0.1,0.1,0.1,0.3,0.3]\n",
        "rv = scipy.stats.multinomial(1, mu)"
      ]
    },
    {
      "cell_type": "code",
      "source": [
        "import numpy as np\n",
        "import pandas as pd\n",
        "xx = np.arange(1, 7)\n",
        "xx"
      ],
      "metadata": {
        "colab": {
          "base_uri": "https://localhost:8080/"
        },
        "id": "EGF_pGeioa7R",
        "outputId": "4b7ace91-426f-4df2-fd3b-c9d288e7874e"
      },
      "execution_count": 2,
      "outputs": [
        {
          "output_type": "execute_result",
          "data": {
            "text/plain": [
              "array([1, 2, 3, 4, 5, 6])"
            ]
          },
          "metadata": {},
          "execution_count": 2
        }
      ]
    },
    {
      "cell_type": "code",
      "source": [
        "xx_ohe = pd.get_dummies(xx)\n",
        "xx_ohe"
      ],
      "metadata": {
        "colab": {
          "base_uri": "https://localhost:8080/",
          "height": 237
        },
        "id": "P9J6xqnjog6P",
        "outputId": "fe4b7de6-56b2-41c1-c8d2-48cf7a46fbc0"
      },
      "execution_count": 3,
      "outputs": [
        {
          "output_type": "execute_result",
          "data": {
            "text/plain": [
              "   1  2  3  4  5  6\n",
              "0  1  0  0  0  0  0\n",
              "1  0  1  0  0  0  0\n",
              "2  0  0  1  0  0  0\n",
              "3  0  0  0  1  0  0\n",
              "4  0  0  0  0  1  0\n",
              "5  0  0  0  0  0  1"
            ],
            "text/html": [
              "\n",
              "  <div id=\"df-6002ac6e-b0e1-4d45-b8a2-5c7c35a25f5a\">\n",
              "    <div class=\"colab-df-container\">\n",
              "      <div>\n",
              "<style scoped>\n",
              "    .dataframe tbody tr th:only-of-type {\n",
              "        vertical-align: middle;\n",
              "    }\n",
              "\n",
              "    .dataframe tbody tr th {\n",
              "        vertical-align: top;\n",
              "    }\n",
              "\n",
              "    .dataframe thead th {\n",
              "        text-align: right;\n",
              "    }\n",
              "</style>\n",
              "<table border=\"1\" class=\"dataframe\">\n",
              "  <thead>\n",
              "    <tr style=\"text-align: right;\">\n",
              "      <th></th>\n",
              "      <th>1</th>\n",
              "      <th>2</th>\n",
              "      <th>3</th>\n",
              "      <th>4</th>\n",
              "      <th>5</th>\n",
              "      <th>6</th>\n",
              "    </tr>\n",
              "  </thead>\n",
              "  <tbody>\n",
              "    <tr>\n",
              "      <th>0</th>\n",
              "      <td>1</td>\n",
              "      <td>0</td>\n",
              "      <td>0</td>\n",
              "      <td>0</td>\n",
              "      <td>0</td>\n",
              "      <td>0</td>\n",
              "    </tr>\n",
              "    <tr>\n",
              "      <th>1</th>\n",
              "      <td>0</td>\n",
              "      <td>1</td>\n",
              "      <td>0</td>\n",
              "      <td>0</td>\n",
              "      <td>0</td>\n",
              "      <td>0</td>\n",
              "    </tr>\n",
              "    <tr>\n",
              "      <th>2</th>\n",
              "      <td>0</td>\n",
              "      <td>0</td>\n",
              "      <td>1</td>\n",
              "      <td>0</td>\n",
              "      <td>0</td>\n",
              "      <td>0</td>\n",
              "    </tr>\n",
              "    <tr>\n",
              "      <th>3</th>\n",
              "      <td>0</td>\n",
              "      <td>0</td>\n",
              "      <td>0</td>\n",
              "      <td>1</td>\n",
              "      <td>0</td>\n",
              "      <td>0</td>\n",
              "    </tr>\n",
              "    <tr>\n",
              "      <th>4</th>\n",
              "      <td>0</td>\n",
              "      <td>0</td>\n",
              "      <td>0</td>\n",
              "      <td>0</td>\n",
              "      <td>1</td>\n",
              "      <td>0</td>\n",
              "    </tr>\n",
              "    <tr>\n",
              "      <th>5</th>\n",
              "      <td>0</td>\n",
              "      <td>0</td>\n",
              "      <td>0</td>\n",
              "      <td>0</td>\n",
              "      <td>0</td>\n",
              "      <td>1</td>\n",
              "    </tr>\n",
              "  </tbody>\n",
              "</table>\n",
              "</div>\n",
              "      <button class=\"colab-df-convert\" onclick=\"convertToInteractive('df-6002ac6e-b0e1-4d45-b8a2-5c7c35a25f5a')\"\n",
              "              title=\"Convert this dataframe to an interactive table.\"\n",
              "              style=\"display:none;\">\n",
              "        \n",
              "  <svg xmlns=\"http://www.w3.org/2000/svg\" height=\"24px\"viewBox=\"0 0 24 24\"\n",
              "       width=\"24px\">\n",
              "    <path d=\"M0 0h24v24H0V0z\" fill=\"none\"/>\n",
              "    <path d=\"M18.56 5.44l.94 2.06.94-2.06 2.06-.94-2.06-.94-.94-2.06-.94 2.06-2.06.94zm-11 1L8.5 8.5l.94-2.06 2.06-.94-2.06-.94L8.5 2.5l-.94 2.06-2.06.94zm10 10l.94 2.06.94-2.06 2.06-.94-2.06-.94-.94-2.06-.94 2.06-2.06.94z\"/><path d=\"M17.41 7.96l-1.37-1.37c-.4-.4-.92-.59-1.43-.59-.52 0-1.04.2-1.43.59L10.3 9.45l-7.72 7.72c-.78.78-.78 2.05 0 2.83L4 21.41c.39.39.9.59 1.41.59.51 0 1.02-.2 1.41-.59l7.78-7.78 2.81-2.81c.8-.78.8-2.07 0-2.86zM5.41 20L4 18.59l7.72-7.72 1.47 1.35L5.41 20z\"/>\n",
              "  </svg>\n",
              "      </button>\n",
              "      \n",
              "  <style>\n",
              "    .colab-df-container {\n",
              "      display:flex;\n",
              "      flex-wrap:wrap;\n",
              "      gap: 12px;\n",
              "    }\n",
              "\n",
              "    .colab-df-convert {\n",
              "      background-color: #E8F0FE;\n",
              "      border: none;\n",
              "      border-radius: 50%;\n",
              "      cursor: pointer;\n",
              "      display: none;\n",
              "      fill: #1967D2;\n",
              "      height: 32px;\n",
              "      padding: 0 0 0 0;\n",
              "      width: 32px;\n",
              "    }\n",
              "\n",
              "    .colab-df-convert:hover {\n",
              "      background-color: #E2EBFA;\n",
              "      box-shadow: 0px 1px 2px rgba(60, 64, 67, 0.3), 0px 1px 3px 1px rgba(60, 64, 67, 0.15);\n",
              "      fill: #174EA6;\n",
              "    }\n",
              "\n",
              "    [theme=dark] .colab-df-convert {\n",
              "      background-color: #3B4455;\n",
              "      fill: #D2E3FC;\n",
              "    }\n",
              "\n",
              "    [theme=dark] .colab-df-convert:hover {\n",
              "      background-color: #434B5C;\n",
              "      box-shadow: 0px 1px 3px 1px rgba(0, 0, 0, 0.15);\n",
              "      filter: drop-shadow(0px 1px 2px rgba(0, 0, 0, 0.3));\n",
              "      fill: #FFFFFF;\n",
              "    }\n",
              "  </style>\n",
              "\n",
              "      <script>\n",
              "        const buttonEl =\n",
              "          document.querySelector('#df-6002ac6e-b0e1-4d45-b8a2-5c7c35a25f5a button.colab-df-convert');\n",
              "        buttonEl.style.display =\n",
              "          google.colab.kernel.accessAllowed ? 'block' : 'none';\n",
              "\n",
              "        async function convertToInteractive(key) {\n",
              "          const element = document.querySelector('#df-6002ac6e-b0e1-4d45-b8a2-5c7c35a25f5a');\n",
              "          const dataTable =\n",
              "            await google.colab.kernel.invokeFunction('convertToInteractive',\n",
              "                                                     [key], {});\n",
              "          if (!dataTable) return;\n",
              "\n",
              "          const docLinkHtml = 'Like what you see? Visit the ' +\n",
              "            '<a target=\"_blank\" href=https://colab.research.google.com/notebooks/data_table.ipynb>data table notebook</a>'\n",
              "            + ' to learn more about interactive tables.';\n",
              "          element.innerHTML = '';\n",
              "          dataTable['output_type'] = 'display_data';\n",
              "          await google.colab.output.renderOutput(dataTable, element);\n",
              "          const docLink = document.createElement('div');\n",
              "          docLink.innerHTML = docLinkHtml;\n",
              "          element.appendChild(docLink);\n",
              "        }\n",
              "      </script>\n",
              "    </div>\n",
              "  </div>\n",
              "  "
            ]
          },
          "metadata": {},
          "execution_count": 3
        }
      ]
    },
    {
      "cell_type": "code",
      "source": [
        "import matplotlib.pyplot as plt\n",
        "plt.bar(xx, rv.pmf(xx_ohe.values))\n",
        "plt.title('카테고리 분포 확률 질량 함수')\n",
        "plt.show()"
      ],
      "metadata": {
        "colab": {
          "base_uri": "https://localhost:8080/",
          "height": 279
        },
        "id": "Iw2Ds3qgoigN",
        "outputId": "6f9ddcdc-7f5f-4dfb-c24d-cecedc4d60d2"
      },
      "execution_count": 7,
      "outputs": [
        {
          "output_type": "display_data",
          "data": {
            "text/plain": [
              "<Figure size 432x288 with 1 Axes>"
            ],
            "image/png": "[encoded data removed]"
          },
          "metadata": {
            "needs_background": "light"
          }
        }
      ]
    },
    {
      "cell_type": "code",
      "source": [
        "np.random.seed(0)\n",
        "X = rv.rvs(1000)\n",
        "X"
      ],
      "metadata": {
        "colab": {
          "base_uri": "https://localhost:8080/"
        },
        "id": "IqO6fpSUpA7H",
        "outputId": "e3826cb5-e7f8-4193-a9dc-f98a0406485f"
      },
      "execution_count": 11,
      "outputs": [
        {
          "output_type": "execute_result",
          "data": {
            "text/plain": [
              "array([[0, 0, 0, 0, 0, 1],\n",
              "       [0, 0, 1, 0, 0, 0],\n",
              "       [1, 0, 0, 0, 0, 0],\n",
              "       ...,\n",
              "       [0, 0, 0, 0, 0, 1],\n",
              "       [1, 0, 0, 0, 0, 0],\n",
              "       [0, 0, 0, 0, 1, 0]])"
            ]
          },
          "metadata": {},
          "execution_count": 11
        }
      ]
    },
    {
      "cell_type": "code",
      "source": [
        "y = X.sum(axis=0) / float(len(X))\n",
        "plt.bar(np.arange(1,7), y)\n",
        "plt.title('카테고리 분포 시뮬레이션 결과')\n",
        "plt.grid()\n",
        "plt.show()"
      ],
      "metadata": {
        "colab": {
          "base_uri": "https://localhost:8080/",
          "height": 279
        },
        "id": "XU_PkjmNpJQc",
        "outputId": "799ce5b0-4d87-4921-f2f9-9c37deaaf777"
      },
      "execution_count": 12,
      "outputs": [
        {
          "output_type": "display_data",
          "data": {
            "text/plain": [
              "<Figure size 432x288 with 1 Axes>"
            ],
            "image/png": "[encoded data removed]"
          },
          "metadata": {
            "needs_background": "light"
          }
        }
      ]
    },
    {
      "cell_type": "code",
      "source": [
        "df = pd.DataFrame({'이론': rv.pmf(xx_ohe.values), '시뮬레이션': y}, index = np.arange(1,7)).stack()"
      ],
      "metadata": {
        "id": "Dcdk68U1pyxa"
      },
      "execution_count": 13,
      "outputs": []
    },
    {
      "cell_type": "code",
      "source": [
        "df = df.reset_index()\n",
        "df.columns = ['표본', '유형', '비율']\n",
        "df.pivot('표본','유형','비율')\n",
        "df"
      ],
      "metadata": {
        "colab": {
          "base_uri": "https://localhost:8080/",
          "height": 426
        },
        "id": "_e2ObwDQqRR-",
        "outputId": "db587f63-9311-4784-8291-c0d028d8e21e"
      },
      "execution_count": 16,
      "outputs": [
        {
          "output_type": "execute_result",
          "data": {
            "text/plain": [
              "    표본     유형     비율\n",
              "0    1     이론  0.100\n",
              "1    1  시뮬레이션  0.109\n",
              "2    2     이론  0.100\n",
              "3    2  시뮬레이션  0.100\n",
              "4    3     이론  0.100\n",
              "5    3  시뮬레이션  0.108\n",
              "6    4     이론  0.100\n",
              "7    4  시뮬레이션  0.102\n",
              "8    5     이론  0.300\n",
              "9    5  시뮬레이션  0.285\n",
              "10   6     이론  0.300\n",
              "11   6  시뮬레이션  0.296"
            ],
            "text/html": [
              "\n",
              "  <div id=\"df-d1c451c6-c35f-49c9-99e7-2d4a001870e8\">\n",
              "    <div class=\"colab-df-container\">\n",
              "      <div>\n",
              "<style scoped>\n",
              "    .dataframe tbody tr th:only-of-type {\n",
              "        vertical-align: middle;\n",
              "    }\n",
              "\n",
              "    .dataframe tbody tr th {\n",
              "        vertical-align: top;\n",
              "    }\n",
              "\n",
              "    .dataframe thead th {\n",
              "        text-align: right;\n",
              "    }\n",
              "</style>\n",
              "<table border=\"1\" class=\"dataframe\">\n",
              "  <thead>\n",
              "    <tr style=\"text-align: right;\">\n",
              "      <th></th>\n",
              "      <th>표본</th>\n",
              "      <th>유형</th>\n",
              "      <th>비율</th>\n",
              "    </tr>\n",
              "  </thead>\n",
              "  <tbody>\n",
              "    <tr>\n",
              "      <th>0</th>\n",
              "      <td>1</td>\n",
              "      <td>이론</td>\n",
              "      <td>0.100</td>\n",
              "    </tr>\n",
              "    <tr>\n",
              "      <th>1</th>\n",
              "      <td>1</td>\n",
              "      <td>시뮬레이션</td>\n",
              "      <td>0.109</td>\n",
              "    </tr>\n",
              "    <tr>\n",
              "      <th>2</th>\n",
              "      <td>2</td>\n",
              "      <td>이론</td>\n",
              "      <td>0.100</td>\n",
              "    </tr>\n",
              "    <tr>\n",
              "      <th>3</th>\n",
              "      <td>2</td>\n",
              "      <td>시뮬레이션</td>\n",
              "      <td>0.100</td>\n",
              "    </tr>\n",
              "    <tr>\n",
              "      <th>4</th>\n",
              "      <td>3</td>\n",
              "      <td>이론</td>\n",
              "      <td>0.100</td>\n",
              "    </tr>\n",
              "    <tr>\n",
              "      <th>5</th>\n",
              "      <td>3</td>\n",
              "      <td>시뮬레이션</td>\n",
              "      <td>0.108</td>\n",
              "    </tr>\n",
              "    <tr>\n",
              "      <th>6</th>\n",
              "      <td>4</td>\n",
              "      <td>이론</td>\n",
              "      <td>0.100</td>\n",
              "    </tr>\n",
              "    <tr>\n",
              "      <th>7</th>\n",
              "      <td>4</td>\n",
              "      <td>시뮬레이션</td>\n",
              "      <td>0.102</td>\n",
              "    </tr>\n",
              "    <tr>\n",
              "      <th>8</th>\n",
              "      <td>5</td>\n",
              "      <td>이론</td>\n",
              "      <td>0.300</td>\n",
              "    </tr>\n",
              "    <tr>\n",
              "      <th>9</th>\n",
              "      <td>5</td>\n",
              "      <td>시뮬레이션</td>\n",
              "      <td>0.285</td>\n",
              "    </tr>\n",
              "    <tr>\n",
              "      <th>10</th>\n",
              "      <td>6</td>\n",
              "      <td>이론</td>\n",
              "      <td>0.300</td>\n",
              "    </tr>\n",
              "    <tr>\n",
              "      <th>11</th>\n",
              "      <td>6</td>\n",
              "      <td>시뮬레이션</td>\n",
              "      <td>0.296</td>\n",
              "    </tr>\n",
              "  </tbody>\n",
              "</table>\n",
              "</div>\n",
              "      <button class=\"colab-df-convert\" onclick=\"convertToInteractive('df-d1c451c6-c35f-49c9-99e7-2d4a001870e8')\"\n",
              "              title=\"Convert this dataframe to an interactive table.\"\n",
              "              style=\"display:none;\">\n",
              "        \n",
              "  <svg xmlns=\"http://www.w3.org/2000/svg\" height=\"24px\"viewBox=\"0 0 24 24\"\n",
              "       width=\"24px\">\n",
              "    <path d=\"M0 0h24v24H0V0z\" fill=\"none\"/>\n",
              "    <path d=\"M18.56 5.44l.94 2.06.94-2.06 2.06-.94-2.06-.94-.94-2.06-.94 2.06-2.06.94zm-11 1L8.5 8.5l.94-2.06 2.06-.94-2.06-.94L8.5 2.5l-.94 2.06-2.06.94zm10 10l.94 2.06.94-2.06 2.06-.94-2.06-.94-.94-2.06-.94 2.06-2.06.94z\"/><path d=\"M17.41 7.96l-1.37-1.37c-.4-.4-.92-.59-1.43-.59-.52 0-1.04.2-1.43.59L10.3 9.45l-7.72 7.72c-.78.78-.78 2.05 0 2.83L4 21.41c.39.39.9.59 1.41.59.51 0 1.02-.2 1.41-.59l7.78-7.78 2.81-2.81c.8-.78.8-2.07 0-2.86zM5.41 20L4 18.59l7.72-7.72 1.47 1.35L5.41 20z\"/>\n",
              "  </svg>\n",
              "      </button>\n",
              "      \n",
              "  <style>\n",
              "    .colab-df-container {\n",
              "      display:flex;\n",
              "      flex-wrap:wrap;\n",
              "      gap: 12px;\n",
              "    }\n",
              "\n",
              "    .colab-df-convert {\n",
              "      background-color: #E8F0FE;\n",
              "      border: none;\n",
              "      border-radius: 50%;\n",
              "      cursor: pointer;\n",
              "      display: none;\n",
              "      fill: #1967D2;\n",
              "      height: 32px;\n",
              "      padding: 0 0 0 0;\n",
              "      width: 32px;\n",
              "    }\n",
              "\n",
              "    .colab-df-convert:hover {\n",
              "      background-color: #E2EBFA;\n",
              "      box-shadow: 0px 1px 2px rgba(60, 64, 67, 0.3), 0px 1px 3px 1px rgba(60, 64, 67, 0.15);\n",
              "      fill: #174EA6;\n",
              "    }\n",
              "\n",
              "    [theme=dark] .colab-df-convert {\n",
              "      background-color: #3B4455;\n",
              "      fill: #D2E3FC;\n",
              "    }\n",
              "\n",
              "    [theme=dark] .colab-df-convert:hover {\n",
              "      background-color: #434B5C;\n",
              "      box-shadow: 0px 1px 3px 1px rgba(0, 0, 0, 0.15);\n",
              "      filter: drop-shadow(0px 1px 2px rgba(0, 0, 0, 0.3));\n",
              "      fill: #FFFFFF;\n",
              "    }\n",
              "  </style>\n",
              "\n",
              "      <script>\n",
              "        const buttonEl =\n",
              "          document.querySelector('#df-d1c451c6-c35f-49c9-99e7-2d4a001870e8 button.colab-df-convert');\n",
              "        buttonEl.style.display =\n",
              "          google.colab.kernel.accessAllowed ? 'block' : 'none';\n",
              "\n",
              "        async function convertToInteractive(key) {\n",
              "          const element = document.querySelector('#df-d1c451c6-c35f-49c9-99e7-2d4a001870e8');\n",
              "          const dataTable =\n",
              "            await google.colab.kernel.invokeFunction('convertToInteractive',\n",
              "                                                     [key], {});\n",
              "          if (!dataTable) return;\n",
              "\n",
              "          const docLinkHtml = 'Like what you see? Visit the ' +\n",
              "            '<a target=\"_blank\" href=https://colab.research.google.com/notebooks/data_table.ipynb>data table notebook</a>'\n",
              "            + ' to learn more about interactive tables.';\n",
              "          element.innerHTML = '';\n",
              "          dataTable['output_type'] = 'display_data';\n",
              "          await google.colab.output.renderOutput(dataTable, element);\n",
              "          const docLink = document.createElement('div');\n",
              "          docLink.innerHTML = docLinkHtml;\n",
              "          element.appendChild(docLink);\n",
              "        }\n",
              "      </script>\n",
              "    </div>\n",
              "  </div>\n",
              "  "
            ]
          },
          "metadata": {},
          "execution_count": 16
        }
      ]
    },
    {
      "cell_type": "code",
      "source": [
        "import seaborn as sns\n",
        "sns.barplot(x='표본', y='비율', hue='유형', data=df)\n",
        "plt.title('카테고리 분포 시뮬레이션 결과')\n",
        "plt.grid()\n",
        "plt.show()"
      ],
      "metadata": {
        "colab": {
          "base_uri": "https://localhost:8080/",
          "height": 292
        },
        "id": "ThlC65E8qTiW",
        "outputId": "0b5e760b-6d4c-4928-ce55-d58dfc160f14"
      },
      "execution_count": 17,
      "outputs": [
        {
          "output_type": "display_data",
          "data": {
            "text/plain": [
              "<Figure size 432x288 with 1 Axes>"
            ],
            "image/png": "[encoded data removed]"
          },
          "metadata": {
            "needs_background": "light"
          }
        }
      ]
    },
    {
      "cell_type": "markdown",
      "source": [
        "#### 실습\n",
        "μ = (0.2, 0.2, 0.15, 0.05, 0.2, 0.1, 0.1)\n",
        "표본이 10개, 1000개 비교"
      ],
      "metadata": {
        "id": "mWP3jLtyrnDX"
      }
    },
    {
      "cell_type": "code",
      "source": [
        "mu = [0.2, 0.2, 0.15, 0.05, 0.2, 0.1, 0.1]\n",
        "rv = scipy.stats.multinomial(1, mu)\n",
        "\n",
        "xx = np.arange(1, 8)\n",
        "xx_ohe = pd.get_dummies(xx)\n",
        "np.random.seed(0)\n",
        "X = rv.rvs(10)\n",
        "\n",
        "y = X.sum(axis=0) / float(len(X))\n",
        "df = pd.DataFrame({'이론': rv.pmf(xx_ohe.values), '시뮬레이션': y}, index = np.arange(1,8)).stack()\n",
        "df = df.reset_index()\n",
        "df.columns = ['표본', '유형', '비율']\n",
        "df.pivot('표본','유형','비율')\n",
        "\n",
        "sns.barplot(x='표본', y='비율', hue='유형', data=df)\n",
        "plt.title('표본 10개 시뮬레이션')\n",
        "plt.grid()\n",
        "plt.show()"
      ],
      "metadata": {
        "colab": {
          "base_uri": "https://localhost:8080/",
          "height": 292
        },
        "id": "gy7KfjwJq9wT",
        "outputId": "b1ec36c9-a240-406e-9df0-f29da14fe5fe"
      },
      "execution_count": 50,
      "outputs": [
        {
          "output_type": "display_data",
          "data": {
            "text/plain": [
              "<Figure size 432x288 with 1 Axes>"
            ],
            "image/png": "[encoded data removed]"
          },
          "metadata": {
            "needs_background": "light"
          }
        }
      ]
    },
    {
      "cell_type": "code",
      "source": [
        "mu = [0.2, 0.2, 0.15, 0.05, 0.2, 0.1, 0.1]\n",
        "rv = scipy.stats.multinomial(1, mu)\n",
        "\n",
        "xx = np.arange(1, 8)\n",
        "xx_ohe = pd.get_dummies(xx)\n",
        "np.random.seed(0)\n",
        "X = rv.rvs(1000)\n",
        "\n",
        "y = X.sum(axis=0) / float(len(X))\n",
        "df = pd.DataFrame({'이론': rv.pmf(xx_ohe.values), '시뮬레이션': y}, index = np.arange(1,8)).stack()\n",
        "df = df.reset_index()\n",
        "df.columns = ['표본', '유형', '비율']\n",
        "df.pivot('표본','유형','비율')\n",
        "\n",
        "sns.barplot(x='표본', y='비율', hue='유형', data=df)\n",
        "plt.title('표본 1000개 시뮬레이션')\n",
        "plt.grid()\n",
        "plt.show()"
      ],
      "metadata": {
        "colab": {
          "base_uri": "https://localhost:8080/",
          "height": 292
        },
        "id": "YAw2unBCsTHX",
        "outputId": "30defdc0-b85d-4dd3-97ec-74c03ef1ec90"
      },
      "execution_count": 51,
      "outputs": [
        {
          "output_type": "display_data",
          "data": {
            "text/plain": [
              "<Figure size 432x288 with 1 Axes>"
            ],
            "image/png": "[encoded data removed]"
          },
          "metadata": {
            "needs_background": "light"
          }
        }
      ]
    },
    {
      "cell_type": "code",
      "source": [
        "from sklearn.datasets import load_iris\n",
        "\n",
        "iris = load_iris()\n",
        "df = pd.DataFrame(iris.data, columns=iris.feature_names)\n",
        "df['품종'] = pd.Series(iris.target, dtype='category')\n",
        "\n",
        "df1 = df[df['petal length (cm)']> 1.5]\n",
        "df2 = df[df['petal length (cm)']<= 1.5]\n",
        "\n",
        "fig, ax = plt.subplots(1,2)\n",
        "sns.countplot(x='품종', data=df1, ax=ax[0]).set_title('꽃잎 폭 1.5cm 초과')\n",
        "sns.countplot(x='품종', data=df2, ax=ax[1]).set_title('꽃잎 폭 1.5cm 이하')\n",
        "plt.tight_layout()\n",
        "plt.show()"
      ],
      "metadata": {
        "colab": {
          "base_uri": "https://localhost:8080/",
          "height": 297
        },
        "id": "vrLWfRhztD6i",
        "outputId": "0752ad1a-e4d1-4227-dd8f-fb2865293671"
      },
      "execution_count": 46,
      "outputs": [
        {
          "output_type": "display_data",
          "data": {
            "text/plain": [
              "<Figure size 432x288 with 2 Axes>"
            ],
            "image/png": "[encoded data removed]"
          },
          "metadata": {
            "needs_background": "light"
          }
        }
      ]
    },
    {
      "cell_type": "markdown",
      "source": [
        "## 다항분포\n",
        "베르누이를 여러번 실험 -> 이항분포  \n",
        "카테고리 확률 변수가 여러개 -> 다항분포  \n",
        "K개인 카테고리 확률변수의 표본을 N개 있을 때, 각각의 카테고리 k가 $x_k$번 나올 확률 분포\n",
        "\n",
        "- 다항 분포의 확률질량 함수\n",
        "$$ Μ(x;N,\\mu) = \\binom N x \\prod_{k=1}^K{\\mu_k}^{x_k}$$\n",
        "\n",
        "- 기대값\n",
        "$$E[{x_k}] = N_{{\\mu}_k}$$\n",
        "\n",
        "- 분산\n",
        "$$Var[{x_k}]=N{\\mu_k}(1-{\\mu_k})$$"
      ],
      "metadata": {
        "id": "gWU9rXLkyxZ_"
      }
    },
    {
      "cell_type": "code",
      "source": [
        "N = 30\n",
        "mu = [0.1, 0.1, 0.1, 0.1, 0.3, 0.3]\n",
        "rv = scipy.stats.multinomial(N, mu)\n",
        "np.random.seed(0)\n",
        "X = rv.rvs(100)\n",
        "X[:5]"
      ],
      "metadata": {
        "colab": {
          "base_uri": "https://localhost:8080/"
        },
        "id": "_FZ7KuW4t81d",
        "outputId": "9fccbb54-68c8-413e-ba33-5f3918f032ab"
      },
      "execution_count": 53,
      "outputs": [
        {
          "output_type": "execute_result",
          "data": {
            "text/plain": [
              "array([[ 3,  4,  3,  3,  8,  9],\n",
              "       [ 3,  3,  5,  6,  6,  7],\n",
              "       [ 4,  3,  3,  5,  5, 10],\n",
              "       [ 1,  0,  5,  5, 12,  7],\n",
              "       [ 7,  4,  2,  3,  5,  9]])"
            ]
          },
          "metadata": {},
          "execution_count": 53
        }
      ]
    },
    {
      "cell_type": "code",
      "source": [
        "df = pd.DataFrame(X).stack().reset_index()\n",
        "df.columns = ['N', '클래스', '표본']\n",
        "\n",
        "sns.violinplot(x='클래스', y='표본', data=df, inner='quartile')\n",
        "sns.swarmplot(x='클래스', y='표본', data=df, color='.3')\n",
        "plt.title('다항분포 시뮬레이션')\n",
        "plt.show()"
      ],
      "metadata": {
        "colab": {
          "base_uri": "https://localhost:8080/",
          "height": 292
        },
        "id": "slCGiUZ70vwt",
        "outputId": "db7bcb1b-8a2c-4325-8c1a-d732e32ad1db"
      },
      "execution_count": 55,
      "outputs": [
        {
          "output_type": "display_data",
          "data": {
            "text/plain": [
              "<Figure size 432x288 with 1 Axes>"
            ],
            "image/png": "[encoded data removed]"
          },
          "metadata": {
            "needs_background": "light"
          }
        }
      ]
    },
    {
      "cell_type": "code",
      "source": [
        "plt.boxplot(X)\n",
        "plt.title('다항분포 시뮬')\n",
        "plt.grid()\n",
        "plt.show()"
      ],
      "metadata": {
        "colab": {
          "base_uri": "https://localhost:8080/",
          "height": 279
        },
        "id": "iCCSFVAT1VwX",
        "outputId": "e1f3f024-c0a2-4e65-91c7-f318e919539e"
      },
      "execution_count": 56,
      "outputs": [
        {
          "output_type": "display_data",
          "data": {
            "text/plain": [
              "<Figure size 432x288 with 1 Axes>"
            ],
            "image/png": "[encoded data removed]"
          },
          "metadata": {
            "needs_background": "light"
          }
        }
      ]
    },
    {
      "cell_type": "markdown",
      "source": [
        "## 베타 분포\n",
        "데이터의 분포를 표현하는 분포가 아닌 모수값 추정 시 신뢰도를 표현하는데 사용   \n",
        "모수 a,b   \n",
        "표본 공간 0~1 실수\n",
        "확률 밀도함수\n",
        "$$Beta(x;a,b)$$"
      ],
      "metadata": {
        "id": "jPt8XZpI2gtC"
      }
    },
    {
      "cell_type": "code",
      "source": [
        "xx = np.linspace(0,1, 1000)\n",
        "plt.subplot(221)\n",
        "plt.fill_between(xx, scipy.stats.beta(1,1).pdf(xx))\n",
        "plt.ylim(0,6)\n",
        "plt.title('(A) a = 1, b= 1')\n",
        "\n",
        "plt.subplot(222)\n",
        "plt.fill_between(xx, scipy.stats.beta(4,2).pdf(xx))\n",
        "plt.ylim(0,6)\n",
        "plt.title('(B) a = 4, b= 2')\n",
        "\n",
        "plt.subplot(223)\n",
        "plt.fill_between(xx, scipy.stats.beta(8,4).pdf(xx))\n",
        "plt.ylim(0,6)\n",
        "plt.title('(C) a = 8, b= 4')\n",
        "\n",
        "plt.subplot(224)\n",
        "plt.fill_between(xx, scipy.stats.beta(30,12).pdf(xx))\n",
        "plt.ylim(0,6)\n",
        "plt.title('(D) a = 30, b= 12')\n",
        "plt.tight_layout()\n",
        "plt.show()"
      ],
      "metadata": {
        "colab": {
          "base_uri": "https://localhost:8080/",
          "height": 297
        },
        "id": "OP1xY3232eor",
        "outputId": "f76b939e-618a-4fa0-815a-35dcd91ffbad"
      },
      "execution_count": 57,
      "outputs": [
        {
          "output_type": "display_data",
          "data": {
            "text/plain": [
              "<Figure size 432x288 with 4 Axes>"
            ],
            "image/png": "[encoded data removed]"
          },
          "metadata": {
            "needs_background": "light"
          }
        }
      ]
    },
    {
      "cell_type": "markdown",
      "source": [
        "기댓값\n",
        "$$E[x] = \\frac{a}{a+b}$$\n",
        "\n",
        "최빈값\n",
        "$$mode = \\frac{a-1}{a+b-2}$$\n",
        "\n",
        "분산\n",
        "$$Var[x] = \\frac{ab}{{(a+b)}^2(a+b+1)}$$"
      ],
      "metadata": {
        "id": "Rgupp9oq4rQR"
      }
    },
    {
      "cell_type": "markdown",
      "source": [
        "## 감마분포\n",
        "베타분포와 달리 0 ~ 무한의 표본을 사용\n",
        "\n",
        "$$Gam(x;a,b)$$"
      ],
      "metadata": {
        "id": "e-iHidAc5pY2"
      }
    },
    {
      "cell_type": "code",
      "source": [
        "xx = np.linspace(0,16,100)\n",
        "plt.subplot(221)\n",
        "plt.fill_between(xx, scipy.stats.gamma(8).pdf(xx))\n",
        "plt.ylim(0,0.4)\n",
        "plt.title(\"(A) a=9, b-1, 최빈값=7\")\n",
        "\n",
        "plt.subplot(222)\n",
        "plt.fill_between(xx, scipy.stats.gamma(6).pdf(xx))\n",
        "plt.ylim(0,0.4)\n",
        "plt.title(\"(B) a=6, b-1, 최빈값=5\")\n",
        "\n",
        "plt.subplot(223)\n",
        "plt.fill_between(xx, scipy.stats.gamma(3).pdf(xx))\n",
        "plt.ylim(0,0.4)\n",
        "plt.title(\"(C) a=3, b-1, 최빈값=2\")\n",
        "\n",
        "plt.subplot(224)\n",
        "plt.fill_between(xx, scipy.stats.gamma(2).pdf(xx))\n",
        "plt.ylim(0,0.4)\n",
        "plt.title(\"(D) a=2, b-1, 최빈값=1\")\n",
        "plt.tight_layout()\n",
        "plt.show()"
      ],
      "metadata": {
        "colab": {
          "base_uri": "https://localhost:8080/",
          "height": 297
        },
        "id": "H_ITIWzQ4lgl",
        "outputId": "3c0a09e7-0685-4979-f144-2f3dbb745d0f"
      },
      "execution_count": 58,
      "outputs": [
        {
          "output_type": "display_data",
          "data": {
            "text/plain": [
              "<Figure size 432x288 with 4 Axes>"
            ],
            "image/png": "[encoded data removed]"
          },
          "metadata": {
            "needs_background": "light"
          }
        }
      ]
    },
    {
      "cell_type": "markdown",
      "source": [
        "- 기대값\n",
        "$$E[X]=\\frac{a}{b}$$\n",
        "- 최빈값\n",
        "$$mode=\\frac{a-1}{b}$$\n",
        "- 분산\n",
        "$$Var[X]=\\frac{a}{b^2}$$"
      ],
      "metadata": {
        "id": "fjmeDwlC7ggQ"
      }
    },
    {
      "cell_type": "markdown",
      "source": [
        "## 디리클레 분포\n",
        "베타분포의 확장  \n",
        "베타분포는 0 ~ 1을 가지는 단일 확률변수에 대한 분포  \n",
        "디리클레분포는 0 ~ 1을 가지는 다변수 확률변수  \n",
        "모수 추정시 베이지안 모형에 사용  \n",
        "밀도함수\n",
        "$$Dir(x;a)$$\n",
        "조건\n",
        "$$0 ≤ {x_i} ≤ 1,\\quad Σ_{i=1}^K{x_i}=1$$\n",
        "베타분포는 k=2인 디리클레 분포포\n"
      ],
      "metadata": {
        "id": "tRsw777M-crq"
      }
    },
    {
      "cell_type": "code",
      "source": [],
      "metadata": {
        "id": "B4x2Em1R6qa6"
      },
      "execution_count": null,
      "outputs": []
    }
  ]
}