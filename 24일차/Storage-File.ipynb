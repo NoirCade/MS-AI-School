{
 "cells": [
  {
   "cell_type": "code",
   "execution_count": 1,
   "metadata": {},
   "outputs": [],
   "source": [
    "# File share와 연결\n",
    "\n",
    "from azure.storage.file import FileService\n",
    "import env2\n",
    "\n",
    "file_service = FileService(account_name=env2.account_name,\n",
    "                            account_key=env2.account_key)"
   ]
  },
  {
   "cell_type": "code",
   "execution_count": 2,
   "metadata": {},
   "outputs": [
    {
     "data": {
      "text/plain": [
       "True"
      ]
     },
     "execution_count": 2,
     "metadata": {},
     "output_type": "execute_result"
    }
   ],
   "source": [
    "# 'myshare' 파일공유 폴더 생성\n",
    "\n",
    "file_service.create_share('myshare')"
   ]
  },
  {
   "cell_type": "code",
   "execution_count": 3,
   "metadata": {},
   "outputs": [
    {
     "data": {
      "text/plain": [
       "True"
      ]
     },
     "execution_count": 3,
     "metadata": {},
     "output_type": "execute_result"
    }
   ],
   "source": [
    "# 'myshre'라는 공유폴더 내에 'sampledir'폴더 생성\n",
    "\n",
    "file_service.create_directory('myshare', 'sampledir')"
   ]
  },
  {
   "cell_type": "code",
   "execution_count": 4,
   "metadata": {},
   "outputs": [],
   "source": [
    "from azure.storage.file import ContentSettings\n",
    "\n",
    "# '1.jfif'라는 파일을 'myfile' 이라는 이름으로 업로드 할 것이다    \n",
    "file_service.create_file_from_path('myshare',\n",
    "                                    None,\n",
    "                                    'myfile',\n",
    "                                    '1.jfif',\n",
    "                                    content_settings=ContentSettings(content_type='image'))"
   ]
  },
  {
   "cell_type": "code",
   "execution_count": 5,
   "metadata": {},
   "outputs": [
    {
     "name": "stdout",
     "output_type": "stream",
     "text": [
      "myfile\n",
      "sampledir\n"
     ]
    }
   ],
   "source": [
    "# 파일 목록 확인 -> 리스트 객체에 들어있음 -> for 문으로 꺼내준다\n",
    "\n",
    "generator = file_service.list_directories_and_files('myshare')\n",
    "\n",
    "for file_or_dir in generator:\n",
    "    print(file_or_dir.name)"
   ]
  },
  {
   "cell_type": "code",
   "execution_count": 6,
   "metadata": {},
   "outputs": [
    {
     "data": {
      "text/plain": [
       "<azure.storage.file.models.File at 0x1e44d659720>"
      ]
     },
     "execution_count": 6,
     "metadata": {},
     "output_type": "execute_result"
    }
   ],
   "source": [
    "# 'out-1' 이라는 이름으로 다시 가져오겠다!\n",
    "file_service.get_file_to_path('myshare', None, 'myfile', 'out-1.jfif')"
   ]
  },
  {
   "cell_type": "code",
   "execution_count": 9,
   "metadata": {},
   "outputs": [],
   "source": [
    "# 스냅샷 찍기\n",
    "\n",
    "metadata = {\"foo\": \"bar\"}\n",
    "snapshot = file_service.snapshot_share('myshare', metadata=metadata)"
   ]
  },
  {
   "cell_type": "code",
   "execution_count": 14,
   "metadata": {},
   "outputs": [
    {
     "name": "stdout",
     "output_type": "stream",
     "text": [
      "2022-11-08T00:24:58.0000000Z\n",
      "2022-11-08T00:26:47.0000000Z\n",
      "None\n"
     ]
    }
   ],
   "source": [
    "# 전체 스냅샷 목록 호출\n",
    "\n",
    "shares = list(file_service.list_shares(include_snapshots=True))\n",
    "\n",
    "for s in shares:\n",
    "    print(s.snapshot)"
   ]
  },
  {
   "cell_type": "code",
   "execution_count": 16,
   "metadata": {},
   "outputs": [],
   "source": [
    "# 스냅샷의 파일과 디렉토리 목록을 변수에 저장\n",
    "\n",
    "directories_and_files = list(\n",
    "    file_service.list_directories_and_files('myshare', snapshot='2022-11-08T00:26:47.0000000Z'))"
   ]
  },
  {
   "cell_type": "code",
   "execution_count": 17,
   "metadata": {},
   "outputs": [
    {
     "name": "stdout",
     "output_type": "stream",
     "text": [
      "myfile\n",
      "sampledir\n"
     ]
    }
   ],
   "source": [
    "#파일과 디렉토리 목록을 출력\n",
    "\n",
    "directories_and_files\n",
    "for file_or_dir in generator:\n",
    "    print(file_or_dir.name)"
   ]
  },
  {
   "cell_type": "code",
   "execution_count": 19,
   "metadata": {},
   "outputs": [
    {
     "data": {
      "text/plain": [
       "True"
      ]
     },
     "execution_count": 19,
     "metadata": {},
     "output_type": "execute_result"
    }
   ],
   "source": [
    "# 스냅샷 삭제\n",
    "\n",
    "file_service.delete_share('myshare', snapshot='2022-11-08T00:26:47.0000000Z')"
   ]
  },
  {
   "cell_type": "code",
   "execution_count": 20,
   "metadata": {},
   "outputs": [],
   "source": [
    "# 공유 폴더 내 파일의 삭제\n",
    "\n",
    "file_service.delete_file('myshare', None, 'myfile')"
   ]
  },
  {
   "cell_type": "code",
   "execution_count": 22,
   "metadata": {},
   "outputs": [
    {
     "data": {
      "text/plain": [
       "True"
      ]
     },
     "execution_count": 22,
     "metadata": {},
     "output_type": "execute_result"
    }
   ],
   "source": [
    "# 공유 폴더 전체 삭제\n",
    "\n",
    "file_service.delete_share('myshare')"
   ]
  },
  {
   "cell_type": "code",
   "execution_count": null,
   "metadata": {},
   "outputs": [],
   "source": []
  }
 ],
 "metadata": {
  "kernelspec": {
   "display_name": "Python 3.10.8 64-bit",
   "language": "python",
   "name": "python3"
  },
  "language_info": {
   "codemirror_mode": {
    "name": "ipython",
    "version": 3
   },
   "file_extension": ".py",
   "mimetype": "text/x-python",
   "name": "python",
   "nbconvert_exporter": "python",
   "pygments_lexer": "ipython3",
   "version": "3.10.8"
  },
  "orig_nbformat": 4,
  "vscode": {
   "interpreter": {
    "hash": "fb4569285eef3a3450cb62085a5b1e0da4bce0af555edc33dcf29baf3acc1368"
   }
  }
 },
 "nbformat": 4,
 "nbformat_minor": 2
}
