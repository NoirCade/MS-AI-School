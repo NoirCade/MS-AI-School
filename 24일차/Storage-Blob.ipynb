{
 "cells": [
  {
   "cell_type": "code",
   "execution_count": 1,
   "metadata": {},
   "outputs": [],
   "source": [
    "# 필요한 패키지 호출\n",
    "\n",
    "import os, uuid\n",
    "from azure.storage.blob import BlobServiceClient, BlobClient, ContainerClient\n",
    "import env1\n"
   ]
  },
  {
   "cell_type": "code",
   "execution_count": 2,
   "metadata": {},
   "outputs": [],
   "source": [
    "# Blob 서비스에 연결\n",
    "\n",
    "connect_string = env1.connect_string\n",
    "\n",
    "blob_service_client = BlobServiceClient.from_connection_string(connect_string)"
   ]
  },
  {
   "cell_type": "code",
   "execution_count": 3,
   "metadata": {},
   "outputs": [
    {
     "name": "stdout",
     "output_type": "stream",
     "text": [
      "704abbc3-f845-4196-a0c2-f08c4ec4b305\n"
     ]
    }
   ],
   "source": [
    "# Container 생성\n",
    "container_name = str(uuid.uuid4())\n",
    "print(container_name)\n",
    "\n",
    "container_client = blob_service_client.create_container(container_name)"
   ]
  },
  {
   "cell_type": "code",
   "execution_count": 4,
   "metadata": {},
   "outputs": [],
   "source": [
    "# 데이터를 업로드\n",
    "\n",
    "local_path = './data'\n",
    "os.mkdir(local_path)\n",
    "\n",
    "local_file_name = str(uuid.uuid4()) + '.txt'\n",
    "upload_file_path = os.path.join(local_path, local_file_name)"
   ]
  },
  {
   "cell_type": "code",
   "execution_count": 5,
   "metadata": {},
   "outputs": [],
   "source": [
    "# 업로드할 파일 준비\n",
    "file = open(file=upload_file_path, mode='w')\n",
    "file.write('Hello Azure Storage')\n",
    "file.close()\n",
    "\n",
    "blob_client = blob_service_client.get_blob_client(container=container_name,\n",
    "                                                    blob=local_file_name)\n",
    "\n",
    "# 저장해둔 파일을 바이너리 형태(읽기 바이너리 형태'rb')로 불러서 data로 호칭 줌\n",
    "# 이미지 등 기타 형태는 그냥 읽어들이면 깨질 수 있어서 바이너리 형태로 부름\n",
    "with open(file=upload_file_path, mode='rb') as data:\n",
    "    blob_client.upload_blob(data)"
   ]
  },
  {
   "cell_type": "code",
   "execution_count": 7,
   "metadata": {},
   "outputs": [
    {
     "name": "stdout",
     "output_type": "stream",
     "text": [
      "\tf743ac4e-493a-4ed2-8ec9-f3de4ebace76.txt\n"
     ]
    }
   ],
   "source": [
    "# 현재 파일 목록의 확인 -> 해당 컨테이너의 엑세스가 허용되어있어야 한다.\n",
    "blob_list = container_client.list_blobs()\n",
    "for blob in blob_list:\n",
    "    print('\\t' + blob.name)"
   ]
  },
  {
   "cell_type": "code",
   "execution_count": 10,
   "metadata": {},
   "outputs": [],
   "source": [
    "# 업로드된 파일 다운로드 시도\n",
    "\n",
    "download_file_path = os.path.join(local_path,\n",
    "            str.replace(local_file_name, '.txt', 'DOWNLOAD.txt'))\n",
    "container_client = blob_service_client.get_container_client(container=container_name)\n",
    "\n",
    "# 받아들인 데이터는 스트림 형태, 이것을 다시 파일로 작성해야한다\n",
    "with open(file=download_file_path, mode='wb') as download_file:\n",
    "    download_file.write(container_client.download_blob(blob.name).readall())"
   ]
  },
  {
   "cell_type": "code",
   "execution_count": 11,
   "metadata": {},
   "outputs": [
    {
     "name": "stdout",
     "output_type": "stream",
     "text": [
      "Press the Enter key t obegin clean up\n",
      "Deleting blob container...\n",
      "Deleting the local source and downloaded files...\n",
      "Done\n"
     ]
    }
   ],
   "source": [
    "# 실습한 자원의 정리\n",
    "\n",
    "print('Press the Enter key to begin clean up')\n",
    "input()\n",
    "\n",
    "print('Deleting blob container...')\n",
    "container_client.delete_container()\n",
    "\n",
    "print('Deleting the local source and downloaded files...')\n",
    "os.remove(upload_file_path)\n",
    "os.remove(download_file_path)\n",
    "os.rmdir(local_path)\n",
    "\n",
    "print('Done')"
   ]
  },
  {
   "cell_type": "code",
   "execution_count": null,
   "metadata": {},
   "outputs": [],
   "source": []
  }
 ],
 "metadata": {
  "kernelspec": {
   "display_name": "Python 3.10.8 64-bit",
   "language": "python",
   "name": "python3"
  },
  "language_info": {
   "codemirror_mode": {
    "name": "ipython",
    "version": 3
   },
   "file_extension": ".py",
   "mimetype": "text/x-python",
   "name": "python",
   "nbconvert_exporter": "python",
   "pygments_lexer": "ipython3",
   "version": "3.10.8"
  },
  "orig_nbformat": 4,
  "vscode": {
   "interpreter": {
    "hash": "fb4569285eef3a3450cb62085a5b1e0da4bce0af555edc33dcf29baf3acc1368"
   }
  }
 },
 "nbformat": 4,
 "nbformat_minor": 2
}
